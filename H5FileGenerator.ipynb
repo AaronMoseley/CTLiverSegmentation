{
 "cells": [
  {
   "cell_type": "code",
   "execution_count": 1,
   "metadata": {},
   "outputs": [],
   "source": [
    "import h5py\n",
    "import nibabel as nib\n",
    "import numpy as np\n",
    "import os\n",
    "import math\n",
    "import PIL\n",
    "from PIL import Image\n",
    "import sys"
   ]
  },
  {
   "cell_type": "code",
   "execution_count": null,
   "metadata": {},
   "outputs": [],
   "source": [
    "volumeDirs = [\"Dataset/TrainVolumes/\", \"Dataset/ValidationVolumes/\", \"Dataset/TestVolumes/\"]\n",
    "segmentationDirs = [\"Dataset/TrainSegmentations/\", \"Dataset/ValidationSegmentations/\", \"Dataset/TestSegmentations/\"]\n",
    "\n",
    "fileNames = [\"TrainDataset.hdf5\", \"ValidationDataset.hdf5\", \"TestDataset.hdf5\"]\n",
    "\n",
    "numFiles = []\n",
    "\n",
    "for fileName in volumeDirs:\n",
    "    numFiles.append(len([name for name in os.listdir(fileName) if os.path.isfile(os.path.join(fileName, name))]))\n",
    "\n",
    "#Percent of slices to keep from each scan, starts from middle of array\n",
    "keepRate = 0.3\n",
    "\n",
    "#Resize all slices/segmentations to imageDim x imageDim\n",
    "imageDim = 256"
   ]
  },
  {
   "cell_type": "code",
   "execution_count": null,
   "metadata": {},
   "outputs": [],
   "source": [
    "def window_level(vol, window_center, window_width): \n",
    "    img_min = window_center - window_width // 2 \n",
    "    img_max = window_center + window_width // 2 \n",
    "    window_image = vol.copy() \n",
    "    window_image[window_image < img_min] = img_min \n",
    "    window_image[window_image > img_max] = img_max \n",
    "\n",
    "    return window_image "
   ]
  },
  {
   "cell_type": "code",
   "execution_count": null,
   "metadata": {},
   "outputs": [],
   "source": [
    "livers = []\n",
    "total = []\n",
    "\n",
    "minVal = float('inf')\n",
    "maxVal = float('-inf')\n",
    "\n",
    "for volumeDir in volumeDirs:\n",
    "    for i, name in enumerate(os.listdir(volumeDir)):\n",
    "        #Disregards hidden files\n",
    "        if name[0] == '.':\n",
    "            continue\n",
    "\n",
    "        ctScan = nib.load(volumeDir + name)\n",
    "        volumeData = ctScan.get_fdata()\n",
    "\n",
    "        minVal = min(np.amin(volumeData), minVal)\n",
    "        maxVal = max(np.amax(volumeData), maxVal)\n",
    "\n",
    "for i in range(len(volumeDirs)):\n",
    "    volumeDir = volumeDirs[i]\n",
    "    segmentationDir = segmentationDirs[i]\n",
    "\n",
    "    numLivers = 0\n",
    "    totalSlices = 0\n",
    "\n",
    "    file = h5py.File(fileNames[i], \"w\")\n",
    "\n",
    "    sliceNum = 0\n",
    "\n",
    "    for i, name in enumerate(os.listdir(volumeDir)):\n",
    "        #Disregards hidden files\n",
    "        if name[0] == '.':\n",
    "            continue\n",
    "\n",
    "        #Loads segmentation and volume data from .nii file\n",
    "        ctScan = nib.load(volumeDir + name)\n",
    "        volumeData = ctScan.get_fdata()\n",
    "\n",
    "        volumeData = window_level(volumeData, 40, 400)\n",
    "\n",
    "        segmentation = nib.load(segmentationDir + os.listdir(segmentationDir)[i])\n",
    "        segmentData = segmentation.get_fdata()\n",
    "\n",
    "        #Loops through all usable slices and adds data to h5 file\n",
    "        #Finds middle index, subtracts half * keepRate from it, goes to middle index + half * keepRate\n",
    "        for plane in range(math.ceil(((volumeData.shape[2] - 1) / 2) - (((volumeData.shape[2] - 1) / 2) * keepRate)), \n",
    "        math.floor(((volumeData.shape[2] - 1) / 2) + (((volumeData.shape[2] - 1) / 2) * keepRate))):\n",
    "\n",
    "            volumeSlice = np.array(Image.fromarray(volumeData[:,:,plane].astype(np.int16)).resize((imageDim, imageDim), Image.BILINEAR))\n",
    "            segmentSlice = segmentData[:,:,plane].astype(np.int16)\n",
    "\n",
    "            volumeSlice = volumeSlice.astype(np.float16)\n",
    "\n",
    "            volumeSlice -= minVal\n",
    "            volumeSlice /= maxVal - minVal\n",
    "\n",
    "            #Gets max value of current segmenation, limits it to 1 (1 if contains liver, 0 if not)\n",
    "            label = min(np.amax(segmentSlice), 1)\n",
    "            segmentSlice = np.array(Image.fromarray(segmentSlice).resize((imageDim, imageDim), Image.NEAREST))\n",
    "\n",
    "            numLivers += label\n",
    "            totalSlices += 1\n",
    "\n",
    "            #Creates subgroup for current slice in current scan, adds slice/segmentation/label data\n",
    "            currSlice = file.create_group(\"Slice\" + str(sliceNum))\n",
    "            currSlice.create_dataset(\"Slice\", data=volumeSlice)\n",
    "            currSlice.create_dataset(\"Segmentation\", data=segmentSlice)\n",
    "            currSlice.attrs.create(\"ImageLabel\", label, (1,), \"int\")\n",
    "\n",
    "            sliceNum += 1\n",
    "\n",
    "    livers.append(numLivers)\n",
    "    total.append(totalSlices)\n",
    "\n",
    "print(f\"Liver Present: {livers} Total: {total}\")\n",
    "\n",
    "file.close()"
   ]
  },
  {
   "cell_type": "code",
   "execution_count": null,
   "metadata": {},
   "outputs": [],
   "source": [
    "for fileName in fileNames:\n",
    "    dataFile = h5py.File(fileName, 'r')\n",
    "    print(list(dataFile.keys()))\n",
    "        \n",
    "    for slice in dataFile:\n",
    "        print(dataFile[slice][\"Slice\"])\n",
    "        print(dataFile[slice][\"Segmentation\"])\n",
    "        print(dataFile[slice].attrs.get(\"ImageLabel\"))\n",
    "\n",
    "dataFile.close()"
   ]
  }
 ],
 "metadata": {
  "kernelspec": {
   "display_name": "Python 3",
   "language": "python",
   "name": "python3"
  },
  "language_info": {
   "codemirror_mode": {
    "name": "ipython",
    "version": 3
   },
   "file_extension": ".py",
   "mimetype": "text/x-python",
   "name": "python",
   "nbconvert_exporter": "python",
   "pygments_lexer": "ipython3",
   "version": "3.9.16"
  },
  "orig_nbformat": 4,
  "vscode": {
   "interpreter": {
    "hash": "72aacd22952597d5f9d461d9ef42ba91a1e3c323af4fa9a8b3e0327b6031588d"
   }
  }
 },
 "nbformat": 4,
 "nbformat_minor": 2
}

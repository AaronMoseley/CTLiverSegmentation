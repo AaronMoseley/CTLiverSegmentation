{
 "cells": [
  {
   "cell_type": "code",
   "execution_count": 2,
   "metadata": {},
   "outputs": [
    {
     "name": "stderr",
     "output_type": "stream",
     "text": [
      "c:\\Users\\ajmo276\\anaconda3\\Lib\\site-packages\\paramiko\\transport.py:219: CryptographyDeprecationWarning: Blowfish has been deprecated\n",
      "  \"class\": algorithms.Blowfish,\n"
     ]
    }
   ],
   "source": [
    "import h5py\n",
    "import nibabel as nib\n",
    "import numpy as np\n",
    "import os\n",
    "import math\n",
    "from PIL import Image\n",
    "from skimage import measure\n",
    "import matplotlib.pyplot as plt\n",
    "import random\n",
    "from tqdm import tqdm"
   ]
  },
  {
   "cell_type": "code",
   "execution_count": null,
   "metadata": {},
   "outputs": [],
   "source": [
    "volumeDirs = [\"Datasets/RawData/TrainingData/Volumes/\", \"Datasets/RawData/ValidationData/Volumes/\", \"Datasets/RawData/TestingData/Volumes/\"]\n",
    "segmentationDirs = [\"Datasets/RawData/TrainingData/Segmentations/\", \"Datasets/RawData/ValidationData/Segmentations/\", \"Datasets/RawData/TestingData/Segmentations/\"]\n",
    "\n",
    "fileNames = [\"ContrastiveTrainDataset.hdf5\", \"ContrastiveValidationDataset.hdf5\", \"ContrastiveTestDataset.hdf5\"]\n",
    "\n",
    "numFiles = []\n",
    "\n",
    "for fileName in volumeDirs:\n",
    "    numFiles.append(len([name for name in os.listdir(fileName) if os.path.isfile(os.path.join(fileName, name))]))\n",
    "\n",
    "#Percent of slices to keep from each scan, starts from middle of array\n",
    "keepRate = 0.3\n",
    "\n",
    "#Resize all slices/segmentations to imageDim x imageDim\n",
    "imageDim = 256"
   ]
  },
  {
   "cell_type": "code",
   "execution_count": null,
   "metadata": {},
   "outputs": [],
   "source": [
    "def window_level(vol, window_center, window_width): \n",
    "    img_min = window_center - window_width // 2 \n",
    "    img_max = window_center + window_width // 2 \n",
    "    window_image = vol.copy() \n",
    "    window_image[window_image < img_min] = img_min \n",
    "    window_image[window_image > img_max] = img_max \n",
    "\n",
    "    return window_image "
   ]
  },
  {
   "cell_type": "code",
   "execution_count": null,
   "metadata": {},
   "outputs": [],
   "source": [
    "minVal = float('inf')\n",
    "maxVal = float('-inf')\n",
    "\n",
    "for volumeDir in volumeDirs:\n",
    "    for i, name in enumerate(os.listdir(volumeDir)):\n",
    "        #Disregards hidden files\n",
    "        if name[0] == '.':\n",
    "            continue\n",
    "\n",
    "        ctScan = nib.load(volumeDir + name)\n",
    "        volumeData = ctScan.get_fdata()\n",
    "\n",
    "        minVal = min(np.amin(volumeData), minVal)\n",
    "        maxVal = max(np.amax(volumeData), maxVal)"
   ]
  },
  {
   "cell_type": "markdown",
   "metadata": {},
   "source": [
    "# **Standard Datasets**"
   ]
  },
  {
   "cell_type": "code",
   "execution_count": null,
   "metadata": {},
   "outputs": [],
   "source": [
    "livers = []\n",
    "total = []\n",
    "\n",
    "for i in range(len(volumeDirs)):\n",
    "    volumeDir = volumeDirs[i]\n",
    "    segmentationDir = segmentationDirs[i]\n",
    "\n",
    "    numLivers = 0\n",
    "    totalSlices = 0\n",
    "\n",
    "    file = h5py.File(fileNames[i], \"w\")\n",
    "\n",
    "    sliceNum = 0\n",
    "\n",
    "    for i, name in enumerate(os.listdir(volumeDir)):\n",
    "        #Disregards hidden files\n",
    "        if name[0] == '.':\n",
    "            continue\n",
    "\n",
    "        #Loads segmentation and volume data from .nii file\n",
    "        ctScan = nib.load(volumeDir + name)\n",
    "        volumeData = ctScan.get_fdata()\n",
    "\n",
    "        volumeData = window_level(volumeData, 40, 400)\n",
    "\n",
    "        segmentation = nib.load(segmentationDir + os.listdir(segmentationDir)[i])\n",
    "        segmentData = segmentation.get_fdata()\n",
    "\n",
    "        #Loops through all usable slices and adds data to h5 file\n",
    "        #Finds middle index, subtracts half * keepRate from it, goes to middle index + half * keepRate\n",
    "        for plane in range(math.ceil(((volumeData.shape[2] - 1) / 2) - (((volumeData.shape[2] - 1) / 2) * keepRate)), \n",
    "        math.floor(((volumeData.shape[2] - 1) / 2) + (((volumeData.shape[2] - 1) / 2) * keepRate))):\n",
    "\n",
    "            volumeSlice = np.array(Image.fromarray(volumeData[:,:,plane].astype(np.int16)).resize((imageDim, imageDim), Image.BILINEAR))\n",
    "            segmentSlice = segmentData[:,:,plane].astype(np.int16)\n",
    "\n",
    "            volumeSlice = volumeSlice.astype(np.float16)\n",
    "\n",
    "            volumeSlice -= minVal\n",
    "            volumeSlice /= maxVal - minVal\n",
    "\n",
    "            #Gets max value of current segmenation, limits it to 1 (1 if contains liver, 0 if not)\n",
    "            label = min(np.amax(segmentSlice), 1)\n",
    "            segmentSlice = np.array(Image.fromarray(segmentSlice).resize((imageDim, imageDim), Image.NEAREST))\n",
    "\n",
    "            numLivers += label\n",
    "            totalSlices += 1\n",
    "\n",
    "            #Creates subgroup for current slice in current scan, adds slice/segmentation/label data\n",
    "            currSlice = file.create_group(\"Slice\" + str(sliceNum))\n",
    "            currSlice.create_dataset(\"Slice\", data=volumeSlice)\n",
    "            currSlice.create_dataset(\"Segmentation\", data=segmentSlice)\n",
    "            currSlice.attrs.create(\"ImageLabel\", label, (1,), \"int\")\n",
    "\n",
    "            sliceNum += 1\n",
    "\n",
    "    livers.append(numLivers)\n",
    "    total.append(totalSlices)\n",
    "\n",
    "print(f\"Liver Present: {livers} Total: {total}\")\n",
    "\n",
    "file.close()"
   ]
  },
  {
   "cell_type": "code",
   "execution_count": null,
   "metadata": {},
   "outputs": [],
   "source": [
    "for fileName in fileNames:\n",
    "    dataFile = h5py.File(fileName, 'r')\n",
    "    print(list(dataFile.keys()))\n",
    "        \n",
    "    for slice in dataFile:\n",
    "        print(dataFile[slice][\"Slice\"])\n",
    "        print(dataFile[slice][\"Segmentation\"])\n",
    "        print(dataFile[slice].attrs.get(\"ImageLabel\"))\n",
    "\n",
    "dataFile.close()"
   ]
  },
  {
   "cell_type": "markdown",
   "metadata": {},
   "source": [
    "# **Contrastive Datasets**"
   ]
  },
  {
   "cell_type": "code",
   "execution_count": null,
   "metadata": {},
   "outputs": [],
   "source": [
    "maxRandomIter = 3\n",
    "\n",
    "def selectSlice(volDir, segmentDir, targetLabel, currVolumeName=\"\", currSliceNum=-1, excludeFiles=[]):\n",
    "    volumes = os.listdir(volDir)\n",
    "    segmentations = os.listdir(segmentDir)\n",
    "\n",
    "    for fileName in volumes:\n",
    "        if fileName[0] == \".\" or fileName in excludeFiles:\n",
    "            volumes.remove(fileName)\n",
    "\n",
    "    for fileName in segmentations:\n",
    "        if fileName[0] == \".\" or fileName in excludeFiles:\n",
    "            segmentations.remove(fileName)\n",
    "\n",
    "    if len(volumes) == 0 or len(segmentations) == 0:\n",
    "        return None\n",
    "\n",
    "    scanInd = random.randrange(0, len(volumes))\n",
    "\n",
    "    segmentation = nib.load(segmentDir + segmentations[scanInd])\n",
    "    segmentData = segmentation.get_fdata()\n",
    "    \n",
    "    sliceInd = random.randrange(int((segmentData.shape[2] / 2) - (segmentData.shape[2] / 2 * keepRate)), int((segmentData.shape[2] / 2) + (segmentData.shape[2] / 2 * keepRate)))\n",
    "    randomIter = 0\n",
    "    while (min(np.amax(segmentData[:,:,sliceInd].astype(np.int16)), 1) != targetLabel or (sliceInd == currSliceNum and volumes[scanInd] == currVolumeName)) and randomIter <= maxRandomIter:\n",
    "        randomIter += 1\n",
    "        sliceInd = random.randrange(int((segmentData.shape[2] / 2) - (segmentData.shape[2] / 2 * keepRate)), int((segmentData.shape[2] / 2) + (segmentData.shape[2] / 2 * keepRate)))\n",
    "\n",
    "    if randomIter >= maxRandomIter:\n",
    "        excludeFiles.append(volumes[scanInd])\n",
    "        excludeFiles.append(segmentations[scanInd])\n",
    "        return selectSlice(volDir, segmentDir, targetLabel, currVolumeName=currVolumeName, currSliceNum=currSliceNum, excludeFiles=excludeFiles)\n",
    "\n",
    "    volumeScan = nib.load(volDir + volumes[scanInd])\n",
    "    volumeData = volumeScan.get_fdata()\n",
    "    volumeData = window_level(volumeData, 40, 400)\n",
    "\n",
    "    volumeSlice = np.array(Image.fromarray(volumeData[:,:,sliceInd].astype(np.float64)).resize((imageDim, imageDim), Image.BILINEAR))\n",
    "\n",
    "    volumeSlice -= float(minVal)\n",
    "    volumeSlice /= float(maxVal - minVal)\n",
    "\n",
    "    segmentSlice = segmentData[:,:,sliceInd].astype(np.int16)\n",
    "\n",
    "    return volumeSlice, segmentSlice"
   ]
  },
  {
   "cell_type": "code",
   "execution_count": null,
   "metadata": {},
   "outputs": [],
   "source": [
    "for i, datasetName in enumerate(fileNames):\n",
    "    sliceNum = 0\n",
    "\n",
    "    volumes = os.listdir(volumeDirs[i])\n",
    "    segmentations = os.listdir(segmentationDirs[i])\n",
    "\n",
    "    file = h5py.File(datasetName, 'w')\n",
    "\n",
    "    for j, volumeName in tqdm(enumerate(volumes)):\n",
    "        segmentName = segmentations[j]\n",
    "\n",
    "        volumeScan = nib.load(volumeDirs[i] + volumeName)\n",
    "        volumeData = volumeScan.get_fdata()\n",
    "        volumeData = window_level(volumeData, 40, 400)\n",
    "\n",
    "        segmentation = nib.load(segmentationDirs[i] + segmentName)\n",
    "        segmentData = segmentation.get_fdata()\n",
    "\n",
    "        for plane in range(math.ceil(((volumeData.shape[2] - 1) / 2) - (((volumeData.shape[2] - 1) / 2) * keepRate)), \n",
    "        math.floor(((volumeData.shape[2] - 1) / 2) + (((volumeData.shape[2] - 1) / 2) * keepRate))):\n",
    "            sliceVolume = np.array(Image.fromarray(volumeData[:,:,plane].astype(np.float64)).resize((imageDim, imageDim), Image.BILINEAR))\n",
    "            sliceVolume -= float(minVal)\n",
    "            sliceVolume /= float(maxVal - minVal)\n",
    "\n",
    "            sliceSegment = segmentData[:,:,plane].astype(np.int16)\n",
    "\n",
    "            label = min(np.amax(sliceSegment), 1)\n",
    "\n",
    "            positiveExample = selectSlice(volumeDirs[i], segmentationDirs[i], label, currVolumeName=volumeName, currSliceNum=plane)[0]\n",
    "            negativeExample = selectSlice(volumeDirs[i], segmentationDirs[i], 1 - label, currVolumeName=volumeName, currSliceNum=plane)[0]\n",
    "\n",
    "            currGrp = file.create_group(\"Slice\" + str(sliceNum))\n",
    "            currGrp.create_dataset(\"Main\", data=sliceVolume)\n",
    "            currGrp.create_dataset(\"Positive\", data=positiveExample)\n",
    "            currGrp.create_dataset(\"Negative\", data=negativeExample)\n",
    "\n",
    "            sliceNum += 1\n",
    "\n",
    "        print(\"Finished scan: \" + volumeName)\n",
    "\n",
    "    print(\"Finished dataset: \" + datasetName)"
   ]
  },
  {
   "cell_type": "markdown",
   "metadata": {},
   "source": [
    "# **Visualization**"
   ]
  },
  {
   "cell_type": "code",
   "execution_count": null,
   "metadata": {},
   "outputs": [],
   "source": [
    "def clamp(iter, min, max):\n",
    "    for i in range(len(iter)):\n",
    "        for j in range(len(iter[i])):\n",
    "            if iter[i][j] > max:\n",
    "                iter[i][j] = max\n",
    "            elif iter[i][j] < min:\n",
    "                iter[i][j] = min\n",
    "\n",
    "    return iter\n",
    "\n",
    "sliceNum = 21\n",
    "groundTruthFile = h5py.File(\"Datasets/Scan1Dataset.hdf5\", 'r')\n",
    "print(len(groundTruthFile.keys()))\n",
    "clamped = clamp(list(groundTruthFile[\"Slice\" + str(sliceNum)][\"Segmentation\"]), 0, 1)\n",
    "groundTruthContours = measure.find_contours(clamped, 0.9)\n",
    "fig, ax = plt.subplots()\n",
    "ax.imshow(list(groundTruthFile[\"Slice\" + str(sliceNum)][\"Slice\"]), cmap=plt.cm.gray)\n",
    "\n",
    "#contour = groundTruthContours[0]\n",
    "#ax.plot(contour[:, 1], contour[:, 0], linewidth=2)\n",
    "\n",
    "ax.axis('image')\n",
    "ax.set_xticks([])\n",
    "ax.set_yticks([])\n",
    "plt.show()"
   ]
  },
  {
   "cell_type": "code",
   "execution_count": null,
   "metadata": {},
   "outputs": [],
   "source": [
    "#predictFile = h5py.File(\"BaselineMasksScan1\")\n",
    "#predictFile = h5py.File(\"JointMasksScan1\")\n",
    "predictFile = h5py.File(\"PretrainMasksScan1\")\n",
    "contours = measure.find_contours(list(predictFile[\"Slice\" + str(sliceNum)]), 0.9)\n",
    "\n",
    "fig, ax = plt.subplots()\n",
    "ax.imshow(list(groundTruthFile[\"Slice\" + str(sliceNum)][\"Slice\"]), cmap=plt.cm.gray)\n",
    "\n",
    "contour = contours[0]\n",
    "ax.plot(contour[:, 1], contour[:, 0], linewidth=2, color='yellow')\n",
    "\n",
    "ax.axis('image')\n",
    "ax.set_xticks([])\n",
    "ax.set_yticks([])\n",
    "plt.show()"
   ]
  },
  {
   "cell_type": "code",
   "execution_count": 3,
   "metadata": {},
   "outputs": [
    {
     "ename": "OSError",
     "evalue": "Unable to open file (bad object header version number)",
     "output_type": "error",
     "traceback": [
      "\u001b[1;31m---------------------------------------------------------------------------\u001b[0m",
      "\u001b[1;31mOSError\u001b[0m                                   Traceback (most recent call last)",
      "Cell \u001b[1;32mIn[3], line 2\u001b[0m\n\u001b[0;32m      1\u001b[0m fileName \u001b[39m=\u001b[39m \u001b[39m\"\u001b[39m\u001b[39mDatasets/ContrastiveDatasets/ContrastiveTestDataset.hdf5\u001b[39m\u001b[39m\"\u001b[39m\n\u001b[1;32m----> 2\u001b[0m file \u001b[39m=\u001b[39m h5py\u001b[39m.\u001b[39mFile(fileName)\n\u001b[0;32m      3\u001b[0m \u001b[39mprint\u001b[39m(\u001b[39mlen\u001b[39m(file\u001b[39m.\u001b[39mkeys()))\n\u001b[0;32m      5\u001b[0m fig, ax \u001b[39m=\u001b[39m plt\u001b[39m.\u001b[39msubplots()\n",
      "File \u001b[1;32mc:\\Users\\ajmo276\\anaconda3\\Lib\\site-packages\\h5py\\_hl\\files.py:533\u001b[0m, in \u001b[0;36mFile.__init__\u001b[1;34m(self, name, mode, driver, libver, userblock_size, swmr, rdcc_nslots, rdcc_nbytes, rdcc_w0, track_order, fs_strategy, fs_persist, fs_threshold, fs_page_size, page_buf_size, min_meta_keep, min_raw_keep, locking, alignment_threshold, alignment_interval, **kwds)\u001b[0m\n\u001b[0;32m    525\u001b[0m     fapl \u001b[39m=\u001b[39m make_fapl(driver, libver, rdcc_nslots, rdcc_nbytes, rdcc_w0,\n\u001b[0;32m    526\u001b[0m                      locking, page_buf_size, min_meta_keep, min_raw_keep,\n\u001b[0;32m    527\u001b[0m                      alignment_threshold\u001b[39m=\u001b[39malignment_threshold,\n\u001b[0;32m    528\u001b[0m                      alignment_interval\u001b[39m=\u001b[39malignment_interval,\n\u001b[0;32m    529\u001b[0m                      \u001b[39m*\u001b[39m\u001b[39m*\u001b[39mkwds)\n\u001b[0;32m    530\u001b[0m     fcpl \u001b[39m=\u001b[39m make_fcpl(track_order\u001b[39m=\u001b[39mtrack_order, fs_strategy\u001b[39m=\u001b[39mfs_strategy,\n\u001b[0;32m    531\u001b[0m                      fs_persist\u001b[39m=\u001b[39mfs_persist, fs_threshold\u001b[39m=\u001b[39mfs_threshold,\n\u001b[0;32m    532\u001b[0m                      fs_page_size\u001b[39m=\u001b[39mfs_page_size)\n\u001b[1;32m--> 533\u001b[0m     fid \u001b[39m=\u001b[39m make_fid(name, mode, userblock_size, fapl, fcpl, swmr\u001b[39m=\u001b[39mswmr)\n\u001b[0;32m    535\u001b[0m \u001b[39mif\u001b[39;00m \u001b[39misinstance\u001b[39m(libver, \u001b[39mtuple\u001b[39m):\n\u001b[0;32m    536\u001b[0m     \u001b[39mself\u001b[39m\u001b[39m.\u001b[39m_libver \u001b[39m=\u001b[39m libver\n",
      "File \u001b[1;32mc:\\Users\\ajmo276\\anaconda3\\Lib\\site-packages\\h5py\\_hl\\files.py:226\u001b[0m, in \u001b[0;36mmake_fid\u001b[1;34m(name, mode, userblock_size, fapl, fcpl, swmr)\u001b[0m\n\u001b[0;32m    224\u001b[0m     \u001b[39mif\u001b[39;00m swmr \u001b[39mand\u001b[39;00m swmr_support:\n\u001b[0;32m    225\u001b[0m         flags \u001b[39m|\u001b[39m\u001b[39m=\u001b[39m h5f\u001b[39m.\u001b[39mACC_SWMR_READ\n\u001b[1;32m--> 226\u001b[0m     fid \u001b[39m=\u001b[39m h5f\u001b[39m.\u001b[39mopen(name, flags, fapl\u001b[39m=\u001b[39mfapl)\n\u001b[0;32m    227\u001b[0m \u001b[39melif\u001b[39;00m mode \u001b[39m==\u001b[39m \u001b[39m'\u001b[39m\u001b[39mr+\u001b[39m\u001b[39m'\u001b[39m:\n\u001b[0;32m    228\u001b[0m     fid \u001b[39m=\u001b[39m h5f\u001b[39m.\u001b[39mopen(name, h5f\u001b[39m.\u001b[39mACC_RDWR, fapl\u001b[39m=\u001b[39mfapl)\n",
      "File \u001b[1;32mh5py\\_objects.pyx:54\u001b[0m, in \u001b[0;36mh5py._objects.with_phil.wrapper\u001b[1;34m()\u001b[0m\n",
      "File \u001b[1;32mh5py\\_objects.pyx:55\u001b[0m, in \u001b[0;36mh5py._objects.with_phil.wrapper\u001b[1;34m()\u001b[0m\n",
      "File \u001b[1;32mh5py\\h5f.pyx:106\u001b[0m, in \u001b[0;36mh5py.h5f.open\u001b[1;34m()\u001b[0m\n",
      "\u001b[1;31mOSError\u001b[0m: Unable to open file (bad object header version number)"
     ]
    }
   ],
   "source": [
    "fileName = \"Datasets/ContrastiveDatasets/ContrastiveTrainDataset.hdf5\"\n",
    "file = h5py.File(fileName)\n",
    "print(len(file.keys()))\n",
    "\n",
    "fig, ax = plt.subplots()\n",
    "\n",
    "sliceGrp = file[\"Slice0\"]\n",
    "main = sliceGrp[\"Main\"]\n",
    "pos = sliceGrp[\"Positive\"]\n",
    "neg = sliceGrp[\"Negative\"]\n",
    "\n",
    "ax.imshow(list(main), cmap=plt.cm.gray)\n",
    "#ax.imshow(list(pos), cmap=plt.cm.gray)\n",
    "#ax.imshow(list(neg), cmap=plt.cm.gray)"
   ]
  }
 ],
 "metadata": {
  "kernelspec": {
   "display_name": "Python 3",
   "language": "python",
   "name": "python3"
  },
  "language_info": {
   "codemirror_mode": {
    "name": "ipython",
    "version": 3
   },
   "file_extension": ".py",
   "mimetype": "text/x-python",
   "name": "python",
   "nbconvert_exporter": "python",
   "pygments_lexer": "ipython3",
   "version": "3.11.4"
  },
  "orig_nbformat": 4,
  "vscode": {
   "interpreter": {
    "hash": "72aacd22952597d5f9d461d9ef42ba91a1e3c323af4fa9a8b3e0327b6031588d"
   }
  }
 },
 "nbformat": 4,
 "nbformat_minor": 2
}

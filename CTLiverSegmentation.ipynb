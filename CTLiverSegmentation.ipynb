{
  "cells": [
    {
      "attachments": {},
      "cell_type": "markdown",
      "metadata": {},
      "source": [
        "# **Setup**"
      ]
    },
    {
      "cell_type": "code",
      "execution_count": null,
      "metadata": {
        "colab": {
          "base_uri": "https://localhost:8080/"
        },
        "id": "sbV9155tKF7w",
        "outputId": "2f70abef-f597-48fe-b05a-60e8f6a0399d"
      },
      "outputs": [],
      "source": [
        "import wandb\n",
        "wandb.login()"
      ]
    },
    {
      "cell_type": "code",
      "execution_count": 1,
      "metadata": {
        "id": "UySZvCsHhycT"
      },
      "outputs": [],
      "source": [
        "import torch\n",
        "from torch.utils.data import DataLoader\n",
        "#from torchsummary import summary\n",
        "import gc\n",
        "import h5py\n",
        "from UNet import UNet, Encoder, ContrastiveEncoder, ResNetBlock\n",
        "from LITSDataset import LITSBinaryDataset, LITSContDataset\n",
        "import LossFunctions\n",
        "import TrainingEval\n",
        "from tqdm import tqdm"
      ]
    },
    {
      "cell_type": "code",
      "execution_count": 2,
      "metadata": {
        "id": "tbHyODbs1XNH"
      },
      "outputs": [],
      "source": [
        "#Hyperparameters and training modifications\n",
        "device = torch.device(\"cuda\") if torch.cuda.is_available() else torch.device(\"cpu\")\n",
        "#device = torch.device(\"cpu\")\n",
        "\n",
        "modelName = \"ResUNetTest\"\n",
        "modelFile = \"UsedModels/\" + modelName\n",
        "configFile = \"testConfig.txt\"\n",
        "\n",
        "startEpoch = 0\n",
        "useWandB = 0\n",
        "batchSize = 0\n",
        "learnRate = 0\n",
        "epochs = 0\n",
        "startDim = 0\n",
        "epochsToDouble = 0\n",
        "progressive = 0\n",
        "epochsToSave = 0\n",
        "cosineAnnealing = 0\n",
        "cosineRestartEpochs = 0\n",
        "\n",
        "varDict = {\n",
        "    \"startEpoch\":startEpoch,\n",
        "    \"useWandB\":useWandB,\n",
        "    \"batchSize\":batchSize,\n",
        "    \"learnRate\":learnRate,\n",
        "    \"epochs\":epochs,\n",
        "    \"startDim\":startDim,\n",
        "    \"epochsToDouble\":epochsToDouble,\n",
        "    \"progressive\":progressive,\n",
        "    \"epochsToSave\":epochsToSave,\n",
        "    \"cosineAnnealing\":cosineAnnealing,\n",
        "    \"cosineRestartEpochs\":cosineRestartEpochs,\n",
        "}\n",
        "\n",
        "TrainingEval.ParseConfig(configFile, varDict)\n",
        "\n",
        "for key in varDict:\n",
        "    if varDict[key].is_integer():\n",
        "        locals()[key] = int(varDict[key])\n",
        "    else:\n",
        "        locals()[key] = varDict[key]"
      ]
    },
    {
      "cell_type": "code",
      "execution_count": 3,
      "metadata": {
        "colab": {
          "base_uri": "https://localhost:8080/"
        },
        "id": "o0JenAeF1rFu",
        "outputId": "cfa27150-7236-40f2-ac04-f7babcee52a2"
      },
      "outputs": [
        {
          "name": "stdout",
          "output_type": "stream",
          "text": [
            "Datasets loaded\n"
          ]
        }
      ],
      "source": [
        "#Load Datasets\n",
        "trainDataset = LITSBinaryDataset(\"Datasets/StandardDatasets/FullTrainDataset.hdf5\")\n",
        "validationDataset = LITSBinaryDataset(\"Datasets/StandardDatasets/ValidationDataset.hdf5\")\n",
        "testDataset = LITSBinaryDataset(\"Datasets/StandardDatasets/TestDataset.hdf5\")\n",
        "\n",
        "trainIter = DataLoader(trainDataset, batch_size=batchSize, shuffle=True)\n",
        "validationIter = DataLoader(validationDataset, batch_size=batchSize)\n",
        "testIter = DataLoader(testDataset, batch_size=batchSize)\n",
        "\n",
        "print(\"Datasets loaded\")"
      ]
    },
    {
      "attachments": {},
      "cell_type": "markdown",
      "metadata": {
        "id": "blz2NJ-mo_vJ"
      },
      "source": [
        "# **Standard Training**"
      ]
    },
    {
      "cell_type": "code",
      "execution_count": 4,
      "metadata": {
        "colab": {
          "base_uri": "https://localhost:8080/"
        },
        "id": "qvELD2iw1fgj",
        "outputId": "f177e2e7-9382-4335-f9b2-247aed63209b"
      },
      "outputs": [
        {
          "name": "stdout",
          "output_type": "stream",
          "text": [
            "Intialized standard UNet model\n"
          ]
        }
      ],
      "source": [
        "#Load model\n",
        "initModel = \"\"\n",
        "\n",
        "lossFuncs = [[LossFunctions.dice_loss, LossFunctions.dice_score], []]\n",
        "weights = [[1, 0], []]\n",
        "\n",
        "segmenter = UNet(1, block=ResNetBlock)\n",
        "#print(summary(net, (1, 256, 256)))\n",
        "\n",
        "#Loads model from file if using a pretrained version\n",
        "if initModel != \"\":\n",
        "    segmenter.load_state_dict(torch.load(initModel))\n",
        "\n",
        "segmenter = segmenter.to(device)\n",
        "\n",
        "print(\"Intialized standard UNet model\")"
      ]
    },
    {
      "cell_type": "code",
      "execution_count": 5,
      "metadata": {
        "id": "8YVz5cMohycW"
      },
      "outputs": [
        {
          "name": "stdout",
          "output_type": "stream",
          "text": [
            "Training on cuda\n",
            "Epoch 0:\n",
            "Train Loss: 0.8481770157814026 Validation Loss: 0.9953493475914001 dice_loss: tensor(0.9953, device='cuda:0') dice_score: tensor(0.0027, device='cuda:0') \n",
            "Epoch 1:\n",
            "Train Loss: 0.7533387541770935 Validation Loss: 0.9900237321853638 dice_loss: tensor(0.9900, device='cuda:0') dice_score: tensor(0.0065, device='cuda:0') \n",
            "Epoch 2:\n",
            "Train Loss: 0.7134347558021545 Validation Loss: 0.9936643838882446 dice_loss: tensor(0.9937, device='cuda:0') dice_score: tensor(0.0038, device='cuda:0') \n",
            "Epoch 3:\n",
            "Train Loss: 0.6793366074562073 Validation Loss: 0.9827650189399719 dice_loss: tensor(0.9828, device='cuda:0') dice_score: tensor(0.0129, device='cuda:0') \n",
            "Epoch 4:\n",
            "Train Loss: 0.6451534032821655 Validation Loss: 0.9864253401756287 dice_loss: tensor(0.9864, device='cuda:0') dice_score: tensor(0.0086, device='cuda:0') \n",
            "Epoch 5:\n",
            "Train Loss: 0.6209954023361206 Validation Loss: 0.9932615160942078 dice_loss: tensor(0.9933, device='cuda:0') dice_score: tensor(0.0048, device='cuda:0') \n",
            "Epoch 6:\n",
            "Train Loss: 0.5714223384857178 Validation Loss: 0.9878854751586914 dice_loss: tensor(0.9879, device='cuda:0') dice_score: tensor(0.0103, device='cuda:0') \n",
            "Epoch 7:\n",
            "Train Loss: 0.5266208052635193 Validation Loss: 0.9931823015213013 dice_loss: tensor(0.9932, device='cuda:0') dice_score: tensor(0.0059, device='cuda:0') \n",
            "Epoch 8:\n",
            "Train Loss: 0.5108994841575623 Validation Loss: 0.9885086417198181 dice_loss: tensor(0.9885, device='cuda:0') dice_score: tensor(0.0108, device='cuda:0') \n",
            "Epoch 9:\n",
            "Train Loss: 0.4885336458683014 Validation Loss: 0.9847030639648438 dice_loss: tensor(0.9847, device='cuda:0') dice_score: tensor(0.0144, device='cuda:0') \n",
            "Epoch 10:\n",
            "Train Loss: 0.5039899945259094 Validation Loss: 0.9751918911933899 dice_loss: tensor(0.9752, device='cuda:0') dice_score: tensor(0.0244, device='cuda:0') \n",
            "Epoch 11:\n",
            "Train Loss: 0.3624274432659149 Validation Loss: 0.9697440266609192 dice_loss: tensor(0.9697, device='cuda:0') dice_score: tensor(0.0719, device='cuda:0') \n",
            "Epoch 12:\n",
            "Train Loss: 0.2802332639694214 Validation Loss: 0.9879190325737 dice_loss: tensor(0.9879, device='cuda:0') dice_score: tensor(0.0120, device='cuda:0') \n",
            "Epoch 13:\n",
            "Train Loss: 0.10444233566522598 Validation Loss: 0.9600597620010376 dice_loss: tensor(0.9601, device='cuda:0') dice_score: tensor(0.0412, device='cuda:0') \n",
            "Epoch 14:\n",
            "Train Loss: 0.08613327890634537 Validation Loss: 0.9741392135620117 dice_loss: tensor(0.9741, device='cuda:0') dice_score: tensor(0.0259, device='cuda:0') \n",
            "Epoch 15:\n",
            "Train Loss: 0.08026514947414398 Validation Loss: 0.9717445373535156 dice_loss: tensor(0.9717, device='cuda:0') dice_score: tensor(0.0283, device='cuda:0') \n",
            "Epoch 16:\n",
            "Train Loss: 0.06483937799930573 Validation Loss: 0.9663211107254028 dice_loss: tensor(0.9663, device='cuda:0') dice_score: tensor(0.0337, device='cuda:0') \n",
            "Epoch 17:\n",
            "Train Loss: 0.06160065904259682 Validation Loss: 0.9679096341133118 dice_loss: tensor(0.9679, device='cuda:0') dice_score: tensor(0.0321, device='cuda:0') \n",
            "Epoch 18:\n",
            "Train Loss: 0.05689074471592903 Validation Loss: 0.9703859686851501 dice_loss: tensor(0.9704, device='cuda:0') dice_score: tensor(0.0296, device='cuda:0') \n",
            "Epoch 19:\n",
            "Train Loss: 0.05334080010652542 Validation Loss: 0.9656690955162048 dice_loss: tensor(0.9657, device='cuda:0') dice_score: tensor(0.0344, device='cuda:0') \n",
            "Epoch 20:\n",
            "Train Loss: 0.06193536892533302 Validation Loss: 0.9645172357559204 dice_loss: tensor(0.9645, device='cuda:0') dice_score: tensor(0.0353, device='cuda:0') \n",
            "Epoch 21:\n",
            "Train Loss: 0.059022508561611176 Validation Loss: 0.9513471722602844 dice_loss: tensor(0.9513, device='cuda:0') dice_score: tensor(0.0502, device='cuda:0') \n",
            "Epoch 22:\n",
            "Train Loss: 0.057323623448610306 Validation Loss: 0.9729031920433044 dice_loss: tensor(0.9729, device='cuda:0') dice_score: tensor(0.0270, device='cuda:0') \n",
            "Epoch 23:\n",
            "Train Loss: 0.05058460310101509 Validation Loss: 0.9728593230247498 dice_loss: tensor(0.9729, device='cuda:0') dice_score: tensor(0.0270, device='cuda:0') \n",
            "Epoch 24:\n",
            "Train Loss: 0.046184588223695755 Validation Loss: 0.9721967577934265 dice_loss: tensor(0.9722, device='cuda:0') dice_score: tensor(0.0277, device='cuda:0') \n",
            "Epoch 25:\n",
            "Train Loss: 0.21219077706336975 Validation Loss: 0.9651952981948853 dice_loss: tensor(0.9652, device='cuda:0') dice_score: tensor(0.0347, device='cuda:0') \n",
            "Epoch 26:\n",
            "Train Loss: 0.13600888848304749 Validation Loss: 0.9592984318733215 dice_loss: tensor(0.9593, device='cuda:0') dice_score: tensor(0.0408, device='cuda:0') \n",
            "Epoch 27:\n",
            "Train Loss: 0.11270485073328018 Validation Loss: 0.96370929479599 dice_loss: tensor(0.9637, device='cuda:0') dice_score: tensor(0.0363, device='cuda:0') \n",
            "Epoch 28:\n",
            "Train Loss: 0.10533987730741501 Validation Loss: 0.9539235234260559 dice_loss: tensor(0.9539, device='cuda:0') dice_score: tensor(0.0463, device='cuda:0') \n",
            "Epoch 29:\n",
            "Train Loss: 0.09865003079175949 Validation Loss: 0.9578890800476074 dice_loss: tensor(0.9579, device='cuda:0') dice_score: tensor(0.0422, device='cuda:0') \n",
            "Epoch 30:\n",
            "Train Loss: 0.11396677792072296 Validation Loss: 0.9607362151145935 dice_loss: tensor(0.9607, device='cuda:0') dice_score: tensor(0.0392, device='cuda:0') \n",
            "Epoch 31:\n",
            "Train Loss: 0.08005418628454208 Validation Loss: 0.9606453776359558 dice_loss: tensor(0.9606, device='cuda:0') dice_score: tensor(0.0393, device='cuda:0') \n",
            "Epoch 32:\n",
            "Train Loss: 0.06691938638687134 Validation Loss: 0.9624719023704529 dice_loss: tensor(0.9625, device='cuda:0') dice_score: tensor(0.0374, device='cuda:0') \n",
            "Epoch 33:\n",
            "Train Loss: 0.05751025676727295 Validation Loss: 0.960744321346283 dice_loss: tensor(0.9607, device='cuda:0') dice_score: tensor(0.0393, device='cuda:0') \n",
            "Unexpected exception formatting exception. Falling back to standard exception\n"
          ]
        },
        {
          "name": "stderr",
          "output_type": "stream",
          "text": [
            "Traceback (most recent call last):\n",
            "  File \"c:\\Users\\ajmo276\\anaconda3\\Lib\\site-packages\\IPython\\core\\interactiveshell.py\", line 3526, in run_code\n",
            "    exec(code_obj, self.user_global_ns, self.user_ns)\n",
            "  File \"C:\\Users\\ajmo276\\AppData\\Local\\Temp\\ipykernel_3196\\4039497791.py\", line 14, in <module>\n",
            "    TrainingEval.train(segmenter, lossFuncs, weights, trainIter, validationIter, epochs, startEpoch, learnRate, device, startDim, epochsToDouble, modelFile, epochsToSave, useWandB=useWandB,\n",
            "  File \"c:\\Users\\ajmo276\\Documents\\GitHub\\CTLiverSegmentation\\TrainingEval.py\", line 166, in train\n",
            "    valLosses = evaluate(net, testIter, lossFuncs, device=device, encoder=encoder)\n",
            "                ^^^^^^^^^^^^^^^^^^^^^^^^^^^^^^^^^^^^^^^^^^^^^^^^^^^^^^^^^^^^^^^^^^\n",
            "  File \"c:\\Users\\ajmo276\\Documents\\GitHub\\CTLiverSegmentation\\TrainingEval.py\", line -1, in evaluate\n",
            "KeyboardInterrupt\n",
            "\n",
            "During handling of the above exception, another exception occurred:\n",
            "\n",
            "Traceback (most recent call last):\n",
            "  File \"c:\\Users\\ajmo276\\anaconda3\\Lib\\site-packages\\IPython\\core\\interactiveshell.py\", line 2120, in showtraceback\n",
            "    stb = self.InteractiveTB.structured_traceback(\n",
            "          ^^^^^^^^^^^^^^^^^^^^^^^^^^^^^^^^^^^^^^^^\n",
            "  File \"c:\\Users\\ajmo276\\anaconda3\\Lib\\site-packages\\IPython\\core\\ultratb.py\", line 1435, in structured_traceback\n",
            "    return FormattedTB.structured_traceback(\n",
            "           ^^^^^^^^^^^^^^^^^^^^^^^^^^^^^^^^^\n",
            "  File \"c:\\Users\\ajmo276\\anaconda3\\Lib\\site-packages\\IPython\\core\\ultratb.py\", line 1326, in structured_traceback\n",
            "    return VerboseTB.structured_traceback(\n",
            "           ^^^^^^^^^^^^^^^^^^^^^^^^^^^^^^^\n",
            "  File \"c:\\Users\\ajmo276\\anaconda3\\Lib\\site-packages\\IPython\\core\\ultratb.py\", line 1173, in structured_traceback\n",
            "    formatted_exception = self.format_exception_as_a_whole(etype, evalue, etb, number_of_lines_of_context,\n",
            "                          ^^^^^^^^^^^^^^^^^^^^^^^^^^^^^^^^^^^^^^^^^^^^^^^^^^^^^^^^^^^^^^^^^^^^^^^^^^^^^^^^\n",
            "  File \"c:\\Users\\ajmo276\\anaconda3\\Lib\\site-packages\\IPython\\core\\ultratb.py\", line 1088, in format_exception_as_a_whole\n",
            "    frames.append(self.format_record(record))\n",
            "                  ^^^^^^^^^^^^^^^^^^^^^^^^^^\n",
            "  File \"c:\\Users\\ajmo276\\anaconda3\\Lib\\site-packages\\IPython\\core\\ultratb.py\", line 970, in format_record\n",
            "    frame_info.lines, Colors, self.has_colors, lvals\n",
            "    ^^^^^^^^^^^^^^^^\n",
            "  File \"c:\\Users\\ajmo276\\anaconda3\\Lib\\site-packages\\IPython\\core\\ultratb.py\", line 792, in lines\n",
            "    return self._sd.lines\n",
            "           ^^^^^^^^^^^^^^\n",
            "  File \"c:\\Users\\ajmo276\\anaconda3\\Lib\\site-packages\\stack_data\\utils.py\", line 145, in cached_property_wrapper\n",
            "    value = obj.__dict__[self.func.__name__] = self.func(obj)\n",
            "                                               ^^^^^^^^^^^^^^\n",
            "  File \"c:\\Users\\ajmo276\\anaconda3\\Lib\\site-packages\\stack_data\\core.py\", line 698, in lines\n",
            "    pieces = self.included_pieces\n",
            "             ^^^^^^^^^^^^^^^^^^^^\n",
            "  File \"c:\\Users\\ajmo276\\anaconda3\\Lib\\site-packages\\stack_data\\utils.py\", line 145, in cached_property_wrapper\n",
            "    value = obj.__dict__[self.func.__name__] = self.func(obj)\n",
            "                                               ^^^^^^^^^^^^^^\n",
            "  File \"c:\\Users\\ajmo276\\anaconda3\\Lib\\site-packages\\stack_data\\core.py\", line 649, in included_pieces\n",
            "    pos = scope_pieces.index(self.executing_piece)\n",
            "                             ^^^^^^^^^^^^^^^^^^^^\n",
            "  File \"c:\\Users\\ajmo276\\anaconda3\\Lib\\site-packages\\stack_data\\utils.py\", line 145, in cached_property_wrapper\n",
            "    value = obj.__dict__[self.func.__name__] = self.func(obj)\n",
            "                                               ^^^^^^^^^^^^^^\n",
            "  File \"c:\\Users\\ajmo276\\anaconda3\\Lib\\site-packages\\stack_data\\core.py\", line 628, in executing_piece\n",
            "    return only(\n",
            "           ^^^^^\n",
            "  File \"c:\\Users\\ajmo276\\anaconda3\\Lib\\site-packages\\executing\\executing.py\", line 164, in only\n",
            "    raise NotOneValueFound('Expected one value, found 0')\n",
            "executing.executing.NotOneValueFound: Expected one value, found 0\n"
          ]
        }
      ],
      "source": [
        "#Train Model\n",
        "\n",
        "if useWandB:\n",
        "    wandb.init(project=\"LiverSegmentation\",\n",
        "            name=modelName,\n",
        "            config={\n",
        "                \"BatchSize\":batchSize,\n",
        "                \"LearnRate\":learnRate,\n",
        "                \"Epochs\":epochs,\n",
        "                \"StartDimension\":startDim,\n",
        "                \"EpochsToDouble\":epochsToDouble\n",
        "            })\n",
        "\n",
        "TrainingEval.train(segmenter, lossFuncs, weights, trainIter, validationIter, epochs, startEpoch, learnRate, device, startDim, epochsToDouble, modelFile, epochsToSave, useWandB=useWandB, \n",
        "      cosineAnnealing=cosineAnnealing, restartEpochs=cosineRestartEpochs, progressive=progressive)\n",
        "\n",
        "if useWandB:\n",
        "    wandb.finish()"
      ]
    },
    {
      "attachments": {},
      "cell_type": "markdown",
      "metadata": {
        "id": "UMT_AzWypZdL"
      },
      "source": [
        "# **Pre-Training**"
      ]
    },
    {
      "cell_type": "code",
      "execution_count": null,
      "metadata": {
        "id": "JsMuX0NYpYxZ"
      },
      "outputs": [],
      "source": [
        "focal = LossFunctions.FocalLoss(weight0=0.1, weight1=0.9, gamma=2)\n",
        "\n",
        "lossFuncs = [[], [focal, LossFunctions.accuracy, LossFunctions.f1]]\n",
        "weights = [[], [1, 0, 0]]\n",
        "\n",
        "initEncoder = \"Run 2/Progressive Encoders/ProgEncoder10\"\n",
        "encoderFile = \"UsedModels/Encoder1\"\n",
        "\n",
        "encoder = Encoder(1)\n",
        "\n",
        "if initEncoder != \"\":\n",
        "    encoder.load_state_dict(torch.load(initEncoder))\n",
        "\n",
        "encoder = encoder.to(device)"
      ]
    },
    {
      "cell_type": "code",
      "execution_count": null,
      "metadata": {
        "id": "NR1JX1AeqQAO"
      },
      "outputs": [],
      "source": [
        "#Train Model\n",
        "gc.collect()\n",
        "\n",
        "if useWandB:\n",
        "    wandb.init(project=\"PreTrainedEncoder\",\n",
        "            name=\"UNetEncoder\",\n",
        "            config={\n",
        "                \"BatchSize\":batchSize,\n",
        "                \"LearnRate\":learnRate,\n",
        "                \"Epochs\":epochs,\n",
        "                \"StartDimension\":startDim,\n",
        "                \"EpochsToDouble\":epochsToDouble,\n",
        "            })\n",
        "\n",
        "print(TrainingEval.train(encoder, lossFuncs, weights, trainIter, validationIter, epochs, startEpoch, learnRate, device, startDim, epochsToDouble, encoderFile, epochsToSave, useWandB=useWandB, \n",
        "      cosineAnnealing=cosineAnnealing, restartEpochs=cosineRestartEpochs, progressive=progressive, encoder=True))\n",
        "\n",
        "if useWandB:\n",
        "    wandb.finish()"
      ]
    },
    {
      "cell_type": "code",
      "execution_count": null,
      "metadata": {
        "id": "PLEB6MZfqk4d"
      },
      "outputs": [],
      "source": [
        "segmenter = UNet(encoder=encoder)\n",
        "\n",
        "lossFuncs = [[LossFunctions.dice_loss, LossFunctions.dice_score], []]\n",
        "weights = [[1, 0], []]"
      ]
    },
    {
      "cell_type": "code",
      "execution_count": null,
      "metadata": {
        "id": "ti-Rck8Xq3sj"
      },
      "outputs": [],
      "source": [
        "#Train Model\n",
        "gc.collect()\n",
        "\n",
        "if useWandB:\n",
        "    wandb.init(project=\"LiverSegmentationPreTraining\",\n",
        "            name=\"NoWeights\",\n",
        "            config={\n",
        "                \"BatchSize\":batchSize,\n",
        "                \"LearnRate\":learnRate,\n",
        "                \"Epochs\":epochs,\n",
        "                \"StartDimension\":startDim,\n",
        "                \"EpochsToDouble\":epochsToDouble\n",
        "            })\n",
        "\n",
        "TrainingEval.train(segmenter, lossFuncs, weights, trainIter, validationIter, epochs, startEpoch, learnRate, device, startDim, epochsToDouble, modelFile, epochsToSave, useWandB=useWandB, \n",
        "      cosineAnnealing=cosineAnnealing, restartEpochs=cosineRestartEpochs, progressive=0)\n",
        "\n",
        "if useWandB:\n",
        "    wandb.finish()"
      ]
    },
    {
      "attachments": {},
      "cell_type": "markdown",
      "metadata": {
        "id": "JH2TvySW9ux8"
      },
      "source": [
        "# **Joint Training**"
      ]
    },
    {
      "cell_type": "code",
      "execution_count": null,
      "metadata": {
        "colab": {
          "base_uri": "https://localhost:8080/",
          "height": 814
        },
        "id": "st2leTac4VsP",
        "outputId": "0ee0bbc1-6d44-4e32-8cfa-d737f988c191"
      },
      "outputs": [],
      "source": [
        "segmenter = UNet(device, multiTask=False, classThreshold=0, segmentThreshold=0)\n",
        "\n",
        "if useWandB:\n",
        "    wandb.init(project=\"LiverSegmentationJointTraining\",\n",
        "            name=\"Weights:\",\n",
        "            config={\n",
        "                \"BatchSize\":batchSize,\n",
        "                \"LearnRate\":learnRate,\n",
        "                \"Epochs\":epochs,\n",
        "                \"StartDimension\":startDim,\n",
        "                \"EpochsToDouble\":epochsToDouble\n",
        "            })\n",
        "\n",
        "classLossFunc = LossFunctions.FocalLoss(weight0=0.2, weight1=0.8, gamma=2)\n",
        "\n",
        "lossFuncs = [[LossFunctions.dice_score, LossFunctions.dice_loss], [LossFunctions.accuracy, classLossFunc]]\n",
        "weights = [[0, 0.5], [0, 0.5]]\n",
        "\n",
        "TrainingEval.train(segmenter, lossFuncs, weights, trainIter, validationIter, epochs, startEpoch, learnRate, device, startDim, epochsToDouble, modelFile, epochsToSave, useWandB=useWandB, \n",
        "      cosineAnnealing=cosineAnnealing, restartEpochs=cosineRestartEpochs, progressive=progressive)\n",
        "\n",
        "if useWandB:\n",
        "    wandb.finish()"
      ]
    },
    {
      "cell_type": "markdown",
      "metadata": {},
      "source": [
        "# **Contrastive Pre-Training**"
      ]
    },
    {
      "cell_type": "code",
      "execution_count": null,
      "metadata": {},
      "outputs": [],
      "source": [
        "contTrainDataset = LITSContDataset(\"Datasets/ContrastiveDatasets/ContrastiveTrainDataset.hdf5\")\n",
        "contValDataset = LITSContDataset(\"Datasets/ContrastiveDatasets/ContrastiveValidationDataset.hdf5\")\n",
        "contTestDataset = LITSContDataset(\"Datasets/ContrastiveDatasets/ContrastiveTestDataset.hdf5\")\n",
        "\n",
        "contTrainIter = DataLoader(contTrainDataset, batch_size=batchSize, shuffle=True)\n",
        "contValidationIter = DataLoader(contValDataset, batch_size=batchSize)\n",
        "contTestIter = DataLoader(contTestDataset, batch_size=batchSize)"
      ]
    },
    {
      "cell_type": "code",
      "execution_count": null,
      "metadata": {},
      "outputs": [],
      "source": [
        "for i in tqdm(range(10)):\n",
        "    modelName = \"ContrastiveEncoder\" + str(i)\n",
        "    modelFile = \"UsedModels/\" + modelName\n",
        "    encoder = ContrastiveEncoder()\n",
        "\n",
        "    if useWandB:\n",
        "        wandb.init(project=\"LITSEncoderContrastive\",\n",
        "                name=\"Weights:\",\n",
        "                config={\n",
        "                    \"BatchSize\":batchSize,\n",
        "                    \"LearnRate\":learnRate,\n",
        "                    \"Epochs\":epochs,\n",
        "                    \"StartDimension\":startDim,\n",
        "                    \"EpochsToDouble\":epochsToDouble\n",
        "                })\n",
        "        \n",
        "    #lossFunc = LossFunctions.ContrastiveLossEuclidean\n",
        "    lossFunc = LossFunctions.ContrastiveLossCosine(temp=(1 / batchSize))\n",
        "\n",
        "    TrainingEval.contrastiveTrain(encoder, lossFunc, contTrainIter, contValidationIter, epochs, startEpoch, learnRate, device, modelFile, epochsToSave, useWandB=useWandB, \n",
        "        cosineAnnealing=cosineAnnealing, restartEpochs=cosineRestartEpochs, isDist=False)\n",
        "\n",
        "    if useWandB:\n",
        "        wandb.finish()\n",
        "\n",
        "    print(\"Model: \" + str(i) + \" finished\")"
      ]
    },
    {
      "cell_type": "code",
      "execution_count": null,
      "metadata": {},
      "outputs": [],
      "source": [
        "initEncoder = \"ContrastiveTest/ContrastiveTest1Encoder\"\n",
        "\n",
        "encoder = ContrastiveEncoder()\n",
        "encoder.load_state_dict(torch.load(initEncoder), strict=False)\n",
        "\n",
        "segmenter = UNet(device, encoder=encoder)\n",
        "#segmenter.freezeEncoder()\n",
        "\n",
        "lossFuncs = [[LossFunctions.dice_loss, LossFunctions.dice_score], []]\n",
        "weights = [[1, 0], []]"
      ]
    },
    {
      "cell_type": "code",
      "execution_count": null,
      "metadata": {},
      "outputs": [],
      "source": [
        "for i in tqdm([2,4,8]):\n",
        "    initEncoder = \"UsedModels/ContrastiveEncoder\" + str(i)\n",
        "    modelFile = \"UsedModels/ContFineTune\" + str(i)\n",
        "\n",
        "    print(modelFile)\n",
        "\n",
        "    encoder = ContrastiveEncoder()\n",
        "    encoder.load_state_dict(torch.load(initEncoder), strict=False)\n",
        "\n",
        "    segmenter = UNet(device, encoder=encoder)\n",
        "    #segmenter.freezeEncoder()\n",
        "\n",
        "    lossFuncs = [[LossFunctions.dice_loss, LossFunctions.dice_score], []]\n",
        "    weights = [[1, 0], []]\n",
        "\n",
        "    #Train Model\n",
        "    gc.collect()\n",
        "\n",
        "    if useWandB:\n",
        "        wandb.init(project=\"LiverSegmentationPreTraining\",\n",
        "                name=\"NoWeights\",\n",
        "                config={\n",
        "                    \"BatchSize\":batchSize,\n",
        "                    \"LearnRate\":learnRate,\n",
        "                    \"Epochs\":epochs,\n",
        "                    \"StartDimension\":startDim,\n",
        "                    \"EpochsToDouble\":epochsToDouble\n",
        "                })\n",
        "\n",
        "    TrainingEval.train(segmenter, lossFuncs, weights, trainIter, validationIter, epochs, startEpoch, learnRate, device, startDim, epochsToDouble, modelFile, epochsToSave, useWandB=useWandB, \n",
        "        cosineAnnealing=cosineAnnealing, restartEpochs=cosineRestartEpochs, progressive=0)\n",
        "\n",
        "    if useWandB:\n",
        "        wandb.finish()"
      ]
    },
    {
      "attachments": {},
      "cell_type": "markdown",
      "metadata": {
        "id": "iipij4bjp9hs"
      },
      "source": [
        "# **Evaluation/Ending**"
      ]
    },
    {
      "cell_type": "code",
      "execution_count": 7,
      "metadata": {
        "colab": {
          "base_uri": "https://localhost:8080/"
        },
        "id": "h1tLSjzH2F-Z",
        "outputId": "2f548a4b-f201-45cc-e02e-1c90911370e8"
      },
      "outputs": [
        {
          "name": "stdout",
          "output_type": "stream",
          "text": [
            "Model: \n",
            "dice_score: tensor(0.0075, device='cuda:0') hausdorff: 112.53251507936326 \n"
          ]
        }
      ],
      "source": [
        "modelName = \"\"\n",
        "classification = False\n",
        "modelFile = \"UsedModels/ResUNetTestBestLoss\"\n",
        "classLossFunc = LossFunctions.FocalLoss(weight0=0.2, weight1=0.8, gamma=2)\n",
        "\n",
        "lossFuncs = [[LossFunctions.dice_score, LossFunctions.hausdorff], []]\n",
        "#lossFuncs = [[LossFunctions.dice_score, LossFunctions.hausdorff], [LossFunctions.accuracy, LossFunctions.f1]]\n",
        "\n",
        "if classification:\n",
        "    net = encoder\n",
        "    net.load_state_dict(torch.load(modelFile), strict=False)\n",
        "else:\n",
        "    net = UNet(device, multiTask=False).to(device)\n",
        "    net.load_state_dict(torch.load(modelFile), strict=False)\n",
        "\n",
        "#Evaluate Model\n",
        "print(f\"Model: {modelName}\")\n",
        "\n",
        "losses = TrainingEval.evaluate(net, testIter, lossFuncs, device=device, encoder=classification)\n",
        "logStr = \"\"\n",
        "for i, arr in enumerate(losses):\n",
        "    for j, val in enumerate(arr):\n",
        "        logStr += (lossFuncs[i][j].__name__ if str(type(lossFuncs[i][j])) == \"<class 'function'>\" else type(lossFuncs[i][j]).__name__) + \": \" + str(val) + \" \"\n",
        "\n",
        "print(logStr)"
      ]
    },
    {
      "cell_type": "code",
      "execution_count": null,
      "metadata": {},
      "outputs": [],
      "source": [
        "modelName = \"\"\n",
        "modelFile = \"UsedModels/ContrastiveTest1BestLoss\"\n",
        "\n",
        "net = ContrastiveEncoder().to(device)\n",
        "net.load_state_dict(torch.load(modelFile), strict=False)\n",
        "\n",
        "lossFunc = LossFunctions.ContrastiveLossCosine\n",
        "\n",
        "loss = TrainingEval.contrastiveEval(net, contTestIter, lossFunc, device=device, isDist=False)\n",
        "print(str(lossFunc) + \" \" + str(loss))"
      ]
    },
    {
      "cell_type": "code",
      "execution_count": null,
      "metadata": {
        "id": "KI_1aq7_VJ01"
      },
      "outputs": [],
      "source": [
        "#modelFile = \"Run 2/Standard Pre-Training/PretrainedUNet7\"\n",
        "modelFile = \"Run 2/Standard Pre-Training/PretrainedUNet6\"\n",
        "dataset = LITSBinaryDataset(\"Datasets/Scan1Dataset.hdf5\")\n",
        "iter = DataLoader(dataset, batch_size=batchSize)\n",
        "\n",
        "net = UNet(0)\n",
        "net.load_state_dict(torch.load(modelFile), strict=False)\n",
        "\n",
        "net.to(device)\n",
        "\n",
        "segmentationMask = TrainingEval.getMasks(net, iter, device=device)\n",
        "\n",
        "masksFile = \"PretrainMasksScan1\"\n",
        "wFile = h5py.File(masksFile, \"w\")\n",
        "\n",
        "for i, slice in enumerate(segmentationMask):\n",
        "    wFile.create_dataset(\"Slice\" + str(i), data=slice)\n",
        "\n",
        "wFile.close()"
      ]
    },
    {
      "cell_type": "code",
      "execution_count": null,
      "metadata": {
        "id": "7LDAG1Pd2KXN"
      },
      "outputs": [],
      "source": [
        "#Close datasets\n",
        "trainDataset.closeFile()\n",
        "validationDataset.closeFile()\n",
        "testDataset.closeFile()"
      ]
    }
  ],
  "metadata": {
    "accelerator": "GPU",
    "colab": {
      "collapsed_sections": [
        "IGcZ_Vm5n5Yv",
        "6g1MsLCCoDhb",
        "6adquwMWoH0B",
        "D2RziTUxY8jV",
        "s4TpJ7zaoLed",
        "blz2NJ-mo_vJ",
        "UMT_AzWypZdL"
      ],
      "provenance": []
    },
    "gpuClass": "standard",
    "kernelspec": {
      "display_name": "base",
      "language": "python",
      "name": "python3"
    },
    "language_info": {
      "codemirror_mode": {
        "name": "ipython",
        "version": 3
      },
      "file_extension": ".py",
      "mimetype": "text/x-python",
      "name": "python",
      "nbconvert_exporter": "python",
      "pygments_lexer": "ipython3",
      "version": "3.11.4"
    },
    "vscode": {
      "interpreter": {
        "hash": "ea23a5d6ea5dd6b47a6bacc48f8acbc6e91dc182fa6b25270d70228f0691131c"
      }
    }
  },
  "nbformat": 4,
  "nbformat_minor": 0
}

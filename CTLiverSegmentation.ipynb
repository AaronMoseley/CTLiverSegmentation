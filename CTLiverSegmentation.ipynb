{
  "cells": [
    {
      "attachments": {},
      "cell_type": "markdown",
      "metadata": {},
      "source": [
        "# **Setup**"
      ]
    },
    {
      "cell_type": "code",
      "execution_count": null,
      "metadata": {
        "colab": {
          "base_uri": "https://localhost:8080/"
        },
        "id": "sbV9155tKF7w",
        "outputId": "2f70abef-f597-48fe-b05a-60e8f6a0399d"
      },
      "outputs": [],
      "source": [
        "import wandb\n",
        "wandb.login()"
      ]
    },
    {
      "cell_type": "code",
      "execution_count": 1,
      "metadata": {
        "id": "UySZvCsHhycT"
      },
      "outputs": [
        {
          "name": "stderr",
          "output_type": "stream",
          "text": [
            "c:\\Users\\amose\\anaconda3\\envs\\MedicalImaging\\lib\\site-packages\\torchvision\\io\\image.py:13: UserWarning: Failed to load image Python extension: [WinError 127] The specified procedure could not be found\n",
            "  warn(f\"Failed to load image Python extension: {e}\")\n"
          ]
        }
      ],
      "source": [
        "import torch\n",
        "from torch.utils.data import DataLoader\n",
        "#from torchsummary import summary\n",
        "import gc\n",
        "import h5py\n",
        "from UNet import UNet, Encoder\n",
        "from LITSDataset import LITSBinaryDataset\n",
        "import LossFunctions\n",
        "import TrainingEval"
      ]
    },
    {
      "cell_type": "code",
      "execution_count": 2,
      "metadata": {
        "id": "tbHyODbs1XNH"
      },
      "outputs": [],
      "source": [
        "#Hyperparameters and training modifications\n",
        "device = torch.device(\"cuda\") if torch.cuda.is_available() else torch.device(\"cpu\")\n",
        "#device = torch.device(\"cpu\")\n",
        "\n",
        "modelName = \"ProgPretrainedUNet10\"\n",
        "modelFile = \"UsedModels/\" + modelName\n",
        "configFile = \"Run 2/standardConfigRun2.txt\"\n",
        "\n",
        "startEpoch = 0\n",
        "useWandB = 0\n",
        "batchSize = 0\n",
        "learnRate = 0\n",
        "epochs = 0\n",
        "startDim = 0\n",
        "epochsToDouble = 0\n",
        "progressive = 0\n",
        "epochsToSave = 0\n",
        "cosineAnnealing = 0\n",
        "cosineRestartEpochs = 0\n",
        "\n",
        "varDict = {\n",
        "    \"startEpoch\":startEpoch,\n",
        "    \"useWandB\":useWandB,\n",
        "    \"batchSize\":batchSize,\n",
        "    \"learnRate\":learnRate,\n",
        "    \"epochs\":epochs,\n",
        "    \"startDim\":startDim,\n",
        "    \"epochsToDouble\":epochsToDouble,\n",
        "    \"progressive\":progressive,\n",
        "    \"epochsToSave\":epochsToSave,\n",
        "    \"cosineAnnealing\":cosineAnnealing,\n",
        "    \"cosineRestartEpochs\":cosineRestartEpochs,\n",
        "}\n",
        "\n",
        "TrainingEval.ParseConfig(configFile, varDict)\n",
        "\n",
        "for key in varDict:\n",
        "    if varDict[key].is_integer():\n",
        "        locals()[key] = int(varDict[key])\n",
        "    else:\n",
        "        locals()[key] = varDict[key]"
      ]
    },
    {
      "cell_type": "code",
      "execution_count": 3,
      "metadata": {
        "colab": {
          "base_uri": "https://localhost:8080/"
        },
        "id": "o0JenAeF1rFu",
        "outputId": "cfa27150-7236-40f2-ac04-f7babcee52a2"
      },
      "outputs": [
        {
          "name": "stdout",
          "output_type": "stream",
          "text": [
            "Datasets loaded\n"
          ]
        }
      ],
      "source": [
        "#Load Datasets\n",
        "trainDataset = LITSBinaryDataset(\"Datasets/FullTrainDataset.hdf5\")\n",
        "validationDataset = LITSBinaryDataset(\"Datasets/ValidationDataset.hdf5\")\n",
        "testDataset = LITSBinaryDataset(\"Datasets/TestDataset.hdf5\")\n",
        "\n",
        "trainIter = DataLoader(trainDataset, batch_size=batchSize, shuffle=True)\n",
        "validationIter = DataLoader(validationDataset, batch_size=batchSize)\n",
        "testIter = DataLoader(testDataset, batch_size=batchSize)\n",
        "\n",
        "print(\"Datasets loaded\")"
      ]
    },
    {
      "attachments": {},
      "cell_type": "markdown",
      "metadata": {
        "id": "blz2NJ-mo_vJ"
      },
      "source": [
        "# **Standard Training**"
      ]
    },
    {
      "cell_type": "code",
      "execution_count": null,
      "metadata": {
        "colab": {
          "base_uri": "https://localhost:8080/"
        },
        "id": "qvELD2iw1fgj",
        "outputId": "f177e2e7-9382-4335-f9b2-247aed63209b"
      },
      "outputs": [],
      "source": [
        "#Load model\n",
        "initModel = \"\"\n",
        "\n",
        "lossFuncs = [[LossFunctions.dice_loss, LossFunctions.dice_score], []]\n",
        "weights = [[1, 0], []]\n",
        "\n",
        "segmenter = UNet(1)\n",
        "#print(summary(net, (1, 256, 256)))\n",
        "\n",
        "#Loads model from file if using a pretrained version\n",
        "if initModel != \"\":\n",
        "    segmenter.load_state_dict(torch.load(initModel))\n",
        "\n",
        "segmenter = segmenter.to(device)\n",
        "\n",
        "print(\"Intialized standard UNet model\")"
      ]
    },
    {
      "cell_type": "code",
      "execution_count": null,
      "metadata": {
        "id": "8YVz5cMohycW"
      },
      "outputs": [],
      "source": [
        "#Train Model\n",
        "\n",
        "if useWandB:\n",
        "    wandb.init(project=\"LiverSegmentation\",\n",
        "            name=modelName,\n",
        "            config={\n",
        "                \"BatchSize\":batchSize,\n",
        "                \"LearnRate\":learnRate,\n",
        "                \"Epochs\":epochs,\n",
        "                \"StartDimension\":startDim,\n",
        "                \"EpochsToDouble\":epochsToDouble\n",
        "            })\n",
        "\n",
        "TrainingEval.train(segmenter, lossFuncs, weights, trainIter, validationIter, epochs, startEpoch, learnRate, device, startDim, epochsToDouble, modelFile, epochsToSave, useWandB=useWandB, \n",
        "      cosineAnnealing=cosineAnnealing, restartEpochs=cosineRestartEpochs, progressive=0)\n",
        "\n",
        "if useWandB:\n",
        "    wandb.finish()"
      ]
    },
    {
      "attachments": {},
      "cell_type": "markdown",
      "metadata": {
        "id": "UMT_AzWypZdL"
      },
      "source": [
        "# **Pre-Training**"
      ]
    },
    {
      "cell_type": "code",
      "execution_count": 4,
      "metadata": {
        "id": "JsMuX0NYpYxZ"
      },
      "outputs": [],
      "source": [
        "focal = LossFunctions.FocalLoss(weight0=0.1, weight1=0.9, gamma=2)\n",
        "\n",
        "lossFuncs = [[], [focal, LossFunctions.accuracy, LossFunctions.f1]]\n",
        "weights = [[], [1, 0, 0]]\n",
        "\n",
        "initEncoder = \"Run 2/Progressive Encoders/ProgEncoder10\"\n",
        "encoderFile = \"UsedModels/Encoder1\"\n",
        "\n",
        "encoder = Encoder(1)\n",
        "\n",
        "if initEncoder != \"\":\n",
        "    encoder.load_state_dict(torch.load(initEncoder))\n",
        "\n",
        "encoder = encoder.to(device)"
      ]
    },
    {
      "cell_type": "code",
      "execution_count": null,
      "metadata": {
        "id": "NR1JX1AeqQAO"
      },
      "outputs": [],
      "source": [
        "#Train Model\n",
        "gc.collect()\n",
        "\n",
        "if useWandB:\n",
        "    wandb.init(project=\"PreTrainedEncoder\",\n",
        "            name=\"UNetEncoder\",\n",
        "            config={\n",
        "                \"BatchSize\":batchSize,\n",
        "                \"LearnRate\":learnRate,\n",
        "                \"Epochs\":epochs,\n",
        "                \"StartDimension\":startDim,\n",
        "                \"EpochsToDouble\":epochsToDouble,\n",
        "            })\n",
        "\n",
        "print(TrainingEval.train(encoder, lossFuncs, weights, trainIter, validationIter, epochs, startEpoch, learnRate, device, startDim, epochsToDouble, encoderFile, epochsToSave, useWandB=useWandB, \n",
        "      cosineAnnealing=cosineAnnealing, restartEpochs=cosineRestartEpochs, progressive=progressive, encoder=True))\n",
        "\n",
        "if useWandB:\n",
        "    wandb.finish()"
      ]
    },
    {
      "cell_type": "code",
      "execution_count": 5,
      "metadata": {
        "id": "PLEB6MZfqk4d"
      },
      "outputs": [],
      "source": [
        "segmenter = UNet(encoder=encoder)\n",
        "\n",
        "lossFuncs = [[LossFunctions.dice_loss, LossFunctions.dice_score], []]\n",
        "weights = [[1, 0], []]"
      ]
    },
    {
      "cell_type": "code",
      "execution_count": 6,
      "metadata": {
        "id": "ti-Rck8Xq3sj"
      },
      "outputs": [
        {
          "name": "stdout",
          "output_type": "stream",
          "text": [
            "Training on cuda\n",
            "Epoch 0:\n",
            "Train Loss: 0.7563625574111938 Validation Loss: 0.8800022006034851 dice_loss: tensor(0.8800, device='cuda:0') dice_score: tensor(0.1365, device='cuda:0') \n",
            "Epoch 1:\n",
            "Train Loss: 0.6417437195777893 Validation Loss: 0.8128735423088074 dice_loss: tensor(0.8129, device='cuda:0') dice_score: tensor(0.1969, device='cuda:0') \n",
            "Epoch 2:\n",
            "Train Loss: 0.5982714295387268 Validation Loss: 0.8111781477928162 dice_loss: tensor(0.8112, device='cuda:0') dice_score: tensor(0.1932, device='cuda:0') \n",
            "Epoch 3:\n",
            "Train Loss: 0.5800997018814087 Validation Loss: 0.8264079093933105 dice_loss: tensor(0.8264, device='cuda:0') dice_score: tensor(0.1750, device='cuda:0') \n",
            "Epoch 4:\n",
            "Train Loss: 0.5782864093780518 Validation Loss: 0.7835254669189453 dice_loss: tensor(0.7835, device='cuda:0') dice_score: tensor(0.2199, device='cuda:0') \n",
            "Epoch 5:\n",
            "Train Loss: 0.5604093670845032 Validation Loss: 0.7805923223495483 dice_loss: tensor(0.7806, device='cuda:0') dice_score: tensor(0.2307, device='cuda:0') \n",
            "Epoch 6:\n",
            "Train Loss: 0.5546366572380066 Validation Loss: 0.7773293852806091 dice_loss: tensor(0.7773, device='cuda:0') dice_score: tensor(0.2255, device='cuda:0') \n",
            "Epoch 7:\n",
            "Train Loss: 0.5529842972755432 Validation Loss: 0.7661222219467163 dice_loss: tensor(0.7661, device='cuda:0') dice_score: tensor(0.3003, device='cuda:0') \n",
            "Epoch 8:\n",
            "Train Loss: 0.5420742034912109 Validation Loss: 0.6388890147209167 dice_loss: tensor(0.6389, device='cuda:0') dice_score: tensor(0.6763, device='cuda:0') \n",
            "Epoch 9:\n",
            "Train Loss: 0.5350172519683838 Validation Loss: 0.6369507908821106 dice_loss: tensor(0.6370, device='cuda:0') dice_score: tensor(0.6244, device='cuda:0') \n",
            "Epoch 10:\n",
            "Train Loss: 0.5288091897964478 Validation Loss: 0.2255084067583084 dice_loss: tensor(0.2255, device='cuda:0') dice_score: tensor(0.8168, device='cuda:0') \n",
            "Epoch 11:\n",
            "Train Loss: 0.3527162969112396 Validation Loss: 0.1783755123615265 dice_loss: tensor(0.1784, device='cuda:0') dice_score: tensor(0.8437, device='cuda:0') \n",
            "Epoch 12:\n",
            "Train Loss: 0.213091641664505 Validation Loss: 0.1364140808582306 dice_loss: tensor(0.1364, device='cuda:0') dice_score: tensor(0.8765, device='cuda:0') \n",
            "Epoch 13:\n",
            "Train Loss: 0.1460081785917282 Validation Loss: 0.11297464370727539 dice_loss: tensor(0.1130, device='cuda:0') dice_score: tensor(0.8879, device='cuda:0') \n",
            "Epoch 14:\n",
            "Train Loss: 0.14431311190128326 Validation Loss: 0.12489815056324005 dice_loss: tensor(0.1249, device='cuda:0') dice_score: tensor(0.8757, device='cuda:0') \n",
            "Epoch 15:\n",
            "Train Loss: 0.09682624042034149 Validation Loss: 0.0967177227139473 dice_loss: tensor(0.0967, device='cuda:0') dice_score: tensor(0.9071, device='cuda:0') \n",
            "Epoch 16:\n",
            "Train Loss: 0.0881287083029747 Validation Loss: 0.1620154082775116 dice_loss: tensor(0.1620, device='cuda:0') dice_score: tensor(0.8535, device='cuda:0') \n",
            "Epoch 17:\n",
            "Train Loss: 0.070174939930439 Validation Loss: 0.0969809889793396 dice_loss: tensor(0.0970, device='cuda:0') dice_score: tensor(0.9065, device='cuda:0') \n",
            "Epoch 18:\n",
            "Train Loss: 0.061088964343070984 Validation Loss: 0.06843835115432739 dice_loss: tensor(0.0684, device='cuda:0') dice_score: tensor(0.9356, device='cuda:0') \n",
            "Epoch 19:\n",
            "Train Loss: 0.05725662037730217 Validation Loss: 0.06494739651679993 dice_loss: tensor(0.0649, device='cuda:0') dice_score: tensor(0.9379, device='cuda:0') \n",
            "Epoch 20:\n",
            "Train Loss: 0.11450042575597763 Validation Loss: 0.14715629816055298 dice_loss: tensor(0.1472, device='cuda:0') dice_score: tensor(0.8571, device='cuda:0') \n",
            "Epoch 21:\n",
            "Train Loss: 0.08429080247879028 Validation Loss: 0.04708091542124748 dice_loss: tensor(0.0471, device='cuda:0') dice_score: tensor(0.9554, device='cuda:0') \n",
            "Epoch 22:\n",
            "Train Loss: 0.06101510301232338 Validation Loss: 0.10259078443050385 dice_loss: tensor(0.1026, device='cuda:0') dice_score: tensor(0.8979, device='cuda:0') \n",
            "Epoch 23:\n",
            "Train Loss: 0.060668472200632095 Validation Loss: 0.09611457586288452 dice_loss: tensor(0.0961, device='cuda:0') dice_score: tensor(0.9045, device='cuda:0') \n",
            "Epoch 24:\n",
            "Train Loss: 0.04761659726500511 Validation Loss: 0.053636807948350906 dice_loss: tensor(0.0536, device='cuda:0') dice_score: tensor(0.9524, device='cuda:0') \n",
            "Epoch 25:\n",
            "Train Loss: 0.038742274045944214 Validation Loss: 0.09867458790540695 dice_loss: tensor(0.0987, device='cuda:0') dice_score: tensor(0.9019, device='cuda:0') \n",
            "Epoch 26:\n",
            "Train Loss: 0.07851290702819824 Validation Loss: 0.10787755250930786 dice_loss: tensor(0.1079, device='cuda:0') dice_score: tensor(0.8928, device='cuda:0') \n",
            "Epoch 27:\n",
            "Train Loss: 0.047009408473968506 Validation Loss: 0.085543192923069 dice_loss: tensor(0.0855, device='cuda:0') dice_score: tensor(0.9154, device='cuda:0') \n",
            "Epoch 28:\n",
            "Train Loss: 0.03861929103732109 Validation Loss: 0.08031873404979706 dice_loss: tensor(0.0803, device='cuda:0') dice_score: tensor(0.9207, device='cuda:0') \n",
            "Epoch 29:\n",
            "Train Loss: 0.03811609745025635 Validation Loss: 0.08036436885595322 dice_loss: tensor(0.0804, device='cuda:0') dice_score: tensor(0.9206, device='cuda:0') \n",
            "Epoch 30:\n",
            "Train Loss: 0.049249742180109024 Validation Loss: 0.30777713656425476 dice_loss: tensor(0.3078, device='cuda:0') dice_score: tensor(0.7991, device='cuda:0') \n",
            "Epoch 31:\n",
            "Train Loss: 0.4647068381309509 Validation Loss: 0.2490585893392563 dice_loss: tensor(0.2491, device='cuda:0') dice_score: tensor(0.7510, device='cuda:0') \n",
            "Epoch 32:\n",
            "Train Loss: 0.4817037582397461 Validation Loss: 0.2490190863609314 dice_loss: tensor(0.2490, device='cuda:0') dice_score: tensor(0.7510, device='cuda:0') \n",
            "Epoch 33:\n",
            "Train Loss: 0.48064109683036804 Validation Loss: 0.24900561571121216 dice_loss: tensor(0.2490, device='cuda:0') dice_score: tensor(0.7510, device='cuda:0') \n",
            "Epoch 34:\n",
            "Train Loss: 0.48230013251304626 Validation Loss: 0.24899905920028687 dice_loss: tensor(0.2490, device='cuda:0') dice_score: tensor(0.7510, device='cuda:0') \n",
            "Epoch 35:\n",
            "Train Loss: 0.4822762608528137 Validation Loss: 0.24899530410766602 dice_loss: tensor(0.2490, device='cuda:0') dice_score: tensor(0.7510, device='cuda:0') \n"
          ]
        },
        {
          "ename": "KeyboardInterrupt",
          "evalue": "",
          "output_type": "error",
          "traceback": [
            "\u001b[1;31m---------------------------------------------------------------------------\u001b[0m",
            "\u001b[1;31mKeyboardInterrupt\u001b[0m                         Traceback (most recent call last)",
            "Cell \u001b[1;32mIn[6], line 15\u001b[0m\n\u001b[0;32m      4\u001b[0m \u001b[39mif\u001b[39;00m useWandB:\n\u001b[0;32m      5\u001b[0m     wandb\u001b[39m.\u001b[39minit(project\u001b[39m=\u001b[39m\u001b[39m\"\u001b[39m\u001b[39mLiverSegmentationPreTraining\u001b[39m\u001b[39m\"\u001b[39m,\n\u001b[0;32m      6\u001b[0m             name\u001b[39m=\u001b[39m\u001b[39m\"\u001b[39m\u001b[39mNoWeights\u001b[39m\u001b[39m\"\u001b[39m,\n\u001b[0;32m      7\u001b[0m             config\u001b[39m=\u001b[39m{\n\u001b[1;32m   (...)\u001b[0m\n\u001b[0;32m     12\u001b[0m                 \u001b[39m\"\u001b[39m\u001b[39mEpochsToDouble\u001b[39m\u001b[39m\"\u001b[39m:epochsToDouble\n\u001b[0;32m     13\u001b[0m             })\n\u001b[1;32m---> 15\u001b[0m TrainingEval\u001b[39m.\u001b[39;49mtrain(segmenter, lossFuncs, weights, trainIter, validationIter, epochs, startEpoch, learnRate, device, startDim, epochsToDouble, modelFile, epochsToSave, useWandB\u001b[39m=\u001b[39;49museWandB, \n\u001b[0;32m     16\u001b[0m       cosineAnnealing\u001b[39m=\u001b[39;49mcosineAnnealing, restartEpochs\u001b[39m=\u001b[39;49mcosineRestartEpochs, progressive\u001b[39m=\u001b[39;49m\u001b[39m0\u001b[39;49m)\n\u001b[0;32m     18\u001b[0m \u001b[39mif\u001b[39;00m useWandB:\n\u001b[0;32m     19\u001b[0m     wandb\u001b[39m.\u001b[39mfinish()\n",
            "File \u001b[1;32mc:\\Users\\amose\\Documents\\GitHub\\CTLiverSegmentation\\TrainingEval.py:118\u001b[0m, in \u001b[0;36mtrain\u001b[1;34m(net, lossFuncs, weights, trainIter, testIter, numEpochs, startEpoch, learnRate, device, startDim, epochsToDouble, modelFileName, epochsToSave, useWandB, cosineAnnealing, restartEpochs, progressive, encoder)\u001b[0m\n\u001b[0;32m    116\u001b[0m \u001b[39mfor\u001b[39;00m i, (X, y1, y2) \u001b[39min\u001b[39;00m \u001b[39menumerate\u001b[39m(trainIter):\n\u001b[0;32m    117\u001b[0m     optimizer\u001b[39m.\u001b[39mzero_grad()\n\u001b[1;32m--> 118\u001b[0m     y1 \u001b[39m=\u001b[39m y1\u001b[39m.\u001b[39;49mto(device)\n\u001b[0;32m    119\u001b[0m     y2 \u001b[39m=\u001b[39m y2\u001b[39m.\u001b[39mto(device)\n\u001b[0;32m    121\u001b[0m     \u001b[39mif\u001b[39;00m progressive \u001b[39m!=\u001b[39m \u001b[39m0\u001b[39m:\n\u001b[0;32m    122\u001b[0m         \u001b[39m#If using progressive learning, downsamples image to the current dimension\u001b[39;00m\n",
            "\u001b[1;31mKeyboardInterrupt\u001b[0m: "
          ]
        }
      ],
      "source": [
        "#Train Model\n",
        "gc.collect()\n",
        "\n",
        "if useWandB:\n",
        "    wandb.init(project=\"LiverSegmentationPreTraining\",\n",
        "            name=\"NoWeights\",\n",
        "            config={\n",
        "                \"BatchSize\":batchSize,\n",
        "                \"LearnRate\":learnRate,\n",
        "                \"Epochs\":epochs,\n",
        "                \"StartDimension\":startDim,\n",
        "                \"EpochsToDouble\":epochsToDouble\n",
        "            })\n",
        "\n",
        "TrainingEval.train(segmenter, lossFuncs, weights, trainIter, validationIter, epochs, startEpoch, learnRate, device, startDim, epochsToDouble, modelFile, epochsToSave, useWandB=useWandB, \n",
        "      cosineAnnealing=cosineAnnealing, restartEpochs=cosineRestartEpochs, progressive=0)\n",
        "\n",
        "if useWandB:\n",
        "    wandb.finish()"
      ]
    },
    {
      "attachments": {},
      "cell_type": "markdown",
      "metadata": {
        "id": "JH2TvySW9ux8"
      },
      "source": [
        "# **Joint Training**"
      ]
    },
    {
      "cell_type": "code",
      "execution_count": null,
      "metadata": {
        "colab": {
          "base_uri": "https://localhost:8080/",
          "height": 814
        },
        "id": "st2leTac4VsP",
        "outputId": "0ee0bbc1-6d44-4e32-8cfa-d737f988c191"
      },
      "outputs": [],
      "source": [
        "segmenter = UNet()\n",
        "\n",
        "if useWandB:\n",
        "    wandb.init(project=\"LiverSegmentationJointTraining\",\n",
        "            name=\"Weights:\",\n",
        "            config={\n",
        "                \"BatchSize\":batchSize,\n",
        "                \"LearnRate\":learnRate,\n",
        "                \"Epochs\":epochs,\n",
        "                \"StartDimension\":startDim,\n",
        "                \"EpochsToDouble\":epochsToDouble\n",
        "            })\n",
        "\n",
        "classLossFunc = LossFunctions.FocalLoss(weight0=0.2, weight1=0.8, gamma=2)\n",
        "\n",
        "lossFuncs = [[LossFunctions.dice_loss, LossFunctions.dice_score], [classLossFunc]]\n",
        "weights = [[0.5, 0], [0.5]]\n",
        "\n",
        "TrainingEval.train(segmenter, lossFuncs, weights, trainIter, validationIter, epochs, startEpoch, learnRate, device, startDim, epochsToDouble, modelFile, epochsToSave, useWandB=useWandB, \n",
        "      cosineAnnealing=cosineAnnealing, restartEpochs=cosineRestartEpochs, progressive=0)\n",
        "\n",
        "if useWandB:\n",
        "    wandb.finish()"
      ]
    },
    {
      "attachments": {},
      "cell_type": "markdown",
      "metadata": {
        "id": "iipij4bjp9hs"
      },
      "source": [
        "# **Evaluation/Ending**"
      ]
    },
    {
      "cell_type": "code",
      "execution_count": null,
      "metadata": {
        "colab": {
          "base_uri": "https://localhost:8080/"
        },
        "id": "h1tLSjzH2F-Z",
        "outputId": "2f548a4b-f201-45cc-e02e-1c90911370e8"
      },
      "outputs": [],
      "source": [
        "modelName = \"\"\n",
        "classification = False\n",
        "modelFile = \"UsedModels/ProgPretrainedUNet10BestLoss\"\n",
        "classLossFunc = LossFunctions.FocalLoss(weight0=0.2, weight1=0.8, gamma=2)\n",
        "\n",
        "lossFuncs = [[LossFunctions.dice_score, LossFunctions.hausdorff], [LossFunctions.accuracy, LossFunctions.f1]]\n",
        "#lossFuncs = [[LossFunctions.dice_score, LossFunctions.hausdorff], [LossFunctions.accuracy, LossFunctions.f1]]\n",
        "\n",
        "if classification:\n",
        "    net = encoder\n",
        "    net.load_state_dict(torch.load(modelFile), strict=False)\n",
        "else:\n",
        "    net = UNet(1).to(device)\n",
        "    net.load_state_dict(torch.load(modelFile), strict=False)\n",
        "\n",
        "#Evaluate Model\n",
        "print(f\"Model: {modelName}\")\n",
        "\n",
        "losses = TrainingEval.evaluate(net, testIter, lossFuncs, device=device, encoder=classification)\n",
        "logStr = \"\"\n",
        "for i, arr in enumerate(losses):\n",
        "    for j, val in enumerate(arr):\n",
        "        logStr += (lossFuncs[i][j].__name__ if str(type(lossFuncs[i][j])) == \"<class 'function'>\" else type(lossFuncs[i][j]).__name__) + \": \" + str(val) + \" \"\n",
        "\n",
        "print(logStr)"
      ]
    },
    {
      "cell_type": "code",
      "execution_count": null,
      "metadata": {
        "id": "KI_1aq7_VJ01"
      },
      "outputs": [],
      "source": [
        "modelFile = \"\"\n",
        "dataset = LITSBinaryDataset(\"\")\n",
        "iter = DataLoader(dataset, batch_size=batchSize)\n",
        "\n",
        "net = UNet(0)\n",
        "net.load_state_dict(torch.load(modelFile))\n",
        "\n",
        "net.to(device)\n",
        "\n",
        "segmentationMask = TrainingEval.getMasks(net, iter, device=device)\n",
        "\n",
        "masksFile = \"\"\n",
        "wFile = h5py.File(masksFile, \"w\")\n",
        "\n",
        "for i, slice in enumerate(segmentationMask):\n",
        "    wFile.create_dataset(\"Slice\" + str(i), data=slice)\n",
        "\n",
        "wFile.close()"
      ]
    },
    {
      "cell_type": "code",
      "execution_count": null,
      "metadata": {
        "id": "7LDAG1Pd2KXN"
      },
      "outputs": [],
      "source": [
        "#Close datasets\n",
        "trainDataset.closeFile()\n",
        "validationDataset.closeFile()\n",
        "testDataset.closeFile()"
      ]
    }
  ],
  "metadata": {
    "accelerator": "GPU",
    "colab": {
      "collapsed_sections": [
        "IGcZ_Vm5n5Yv",
        "6g1MsLCCoDhb",
        "6adquwMWoH0B",
        "D2RziTUxY8jV",
        "s4TpJ7zaoLed",
        "blz2NJ-mo_vJ",
        "UMT_AzWypZdL"
      ],
      "provenance": []
    },
    "gpuClass": "standard",
    "kernelspec": {
      "display_name": "base",
      "language": "python",
      "name": "python3"
    },
    "language_info": {
      "codemirror_mode": {
        "name": "ipython",
        "version": 3
      },
      "file_extension": ".py",
      "mimetype": "text/x-python",
      "name": "python",
      "nbconvert_exporter": "python",
      "pygments_lexer": "ipython3",
      "version": "3.9.16"
    },
    "vscode": {
      "interpreter": {
        "hash": "ea23a5d6ea5dd6b47a6bacc48f8acbc6e91dc182fa6b25270d70228f0691131c"
      }
    }
  },
  "nbformat": 4,
  "nbformat_minor": 0
}

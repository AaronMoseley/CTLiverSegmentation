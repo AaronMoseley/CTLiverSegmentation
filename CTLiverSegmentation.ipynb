{
  "cells": [
    {
      "attachments": {},
      "cell_type": "markdown",
      "metadata": {},
      "source": [
        "# **Setup**"
      ]
    },
    {
      "cell_type": "code",
      "execution_count": null,
      "metadata": {
        "colab": {
          "base_uri": "https://localhost:8080/"
        },
        "id": "sbV9155tKF7w",
        "outputId": "2f70abef-f597-48fe-b05a-60e8f6a0399d"
      },
      "outputs": [],
      "source": [
        "import wandb\n",
        "wandb.login()"
      ]
    },
    {
      "cell_type": "code",
      "execution_count": null,
      "metadata": {
        "id": "UySZvCsHhycT"
      },
      "outputs": [],
      "source": [
        "import torch\n",
        "from torch.utils.data import DataLoader\n",
        "#from torchsummary import summary\n",
        "import gc\n",
        "import h5py\n",
        "from UNet import UNet, Encoder\n",
        "from LITSDataset import LITSBinaryDataset\n",
        "import LossFunctions\n",
        "import TrainingEval"
      ]
    },
    {
      "cell_type": "code",
      "execution_count": 16,
      "metadata": {
        "id": "tbHyODbs1XNH"
      },
      "outputs": [],
      "source": [
        "#Hyperparameters and training modifications\n",
        "device = torch.device(\"cuda\") if torch.cuda.is_available() else torch.device(\"cpu\")\n",
        "#device = torch.device(\"cpu\")\n",
        "\n",
        "modelName = \"JointTrainUNet0.5-0.5\"\n",
        "modelFile = \"UsedModels/\" + modelName\n",
        "configFile = \"Run 2/jointConfigRun2.txt\"\n",
        "\n",
        "startEpoch = 0\n",
        "useWandB = 0\n",
        "batchSize = 0\n",
        "learnRate = 0\n",
        "epochs = 0\n",
        "startDim = 0\n",
        "epochsToDouble = 0\n",
        "progressive = 0\n",
        "epochsToSave = 0\n",
        "cosineAnnealing = 0\n",
        "cosineRestartEpochs = 0\n",
        "\n",
        "varDict = {\n",
        "    \"startEpoch\":startEpoch,\n",
        "    \"useWandB\":useWandB,\n",
        "    \"batchSize\":batchSize,\n",
        "    \"learnRate\":learnRate,\n",
        "    \"epochs\":epochs,\n",
        "    \"startDim\":startDim,\n",
        "    \"epochsToDouble\":epochsToDouble,\n",
        "    \"progressive\":progressive,\n",
        "    \"epochsToSave\":epochsToSave,\n",
        "    \"cosineAnnealing\":cosineAnnealing,\n",
        "    \"cosineRestartEpochs\":cosineRestartEpochs,\n",
        "}\n",
        "\n",
        "TrainingEval.ParseConfig(configFile, varDict)\n",
        "\n",
        "for key in varDict:\n",
        "    if varDict[key].is_integer():\n",
        "        locals()[key] = int(varDict[key])\n",
        "    else:\n",
        "        locals()[key] = varDict[key]"
      ]
    },
    {
      "cell_type": "code",
      "execution_count": 17,
      "metadata": {
        "colab": {
          "base_uri": "https://localhost:8080/"
        },
        "id": "o0JenAeF1rFu",
        "outputId": "cfa27150-7236-40f2-ac04-f7babcee52a2"
      },
      "outputs": [
        {
          "name": "stdout",
          "output_type": "stream",
          "text": [
            "Datasets loaded\n"
          ]
        }
      ],
      "source": [
        "#Load Datasets\n",
        "trainDataset = LITSBinaryDataset(\"Datasets/FullTrainDataset.hdf5\")\n",
        "validationDataset = LITSBinaryDataset(\"Datasets/ValidationDataset.hdf5\")\n",
        "testDataset = LITSBinaryDataset(\"Datasets/TestDataset.hdf5\")\n",
        "\n",
        "trainIter = DataLoader(trainDataset, batch_size=batchSize, shuffle=True)\n",
        "validationIter = DataLoader(validationDataset, batch_size=batchSize)\n",
        "testIter = DataLoader(testDataset, batch_size=batchSize)\n",
        "\n",
        "print(\"Datasets loaded\")"
      ]
    },
    {
      "attachments": {},
      "cell_type": "markdown",
      "metadata": {
        "id": "blz2NJ-mo_vJ"
      },
      "source": [
        "# **Standard Training**"
      ]
    },
    {
      "cell_type": "code",
      "execution_count": null,
      "metadata": {
        "colab": {
          "base_uri": "https://localhost:8080/"
        },
        "id": "qvELD2iw1fgj",
        "outputId": "f177e2e7-9382-4335-f9b2-247aed63209b"
      },
      "outputs": [],
      "source": [
        "#Load model\n",
        "initModel = \"\"\n",
        "\n",
        "lossFuncs = [[LossFunctions.dice_loss, LossFunctions.avgHausdorff], []]\n",
        "weights = [[1, 0], []]\n",
        "\n",
        "segmenter = UNet(1)\n",
        "#print(summary(net, (1, 256, 256)))\n",
        "\n",
        "#Loads model from file if using a pretrained version\n",
        "if initModel != \"\":\n",
        "    segmenter.load_state_dict(torch.load(initModel))\n",
        "\n",
        "segmenter = segmenter.to(device)\n",
        "\n",
        "print(\"Intialized standard UNet model\")"
      ]
    },
    {
      "cell_type": "code",
      "execution_count": null,
      "metadata": {
        "id": "8YVz5cMohycW"
      },
      "outputs": [],
      "source": [
        "#Train Model\n",
        "\n",
        "if useWandB:\n",
        "    wandb.init(project=\"LiverSegmentation\",\n",
        "            name=modelName,\n",
        "            config={\n",
        "                \"BatchSize\":batchSize,\n",
        "                \"LearnRate\":learnRate,\n",
        "                \"Epochs\":epochs,\n",
        "                \"StartDimension\":startDim,\n",
        "                \"EpochsToDouble\":epochsToDouble\n",
        "            })\n",
        "\n",
        "TrainingEval.train(segmenter, lossFuncs, weights, trainIter, validationIter, epochs, startEpoch, learnRate, device, startDim, epochsToDouble, modelFile, epochsToSave, useWandB=useWandB, \n",
        "      cosineAnnealing=cosineAnnealing, restartEpochs=cosineRestartEpochs, progressive=0)\n",
        "\n",
        "if useWandB:\n",
        "    wandb.finish()"
      ]
    },
    {
      "attachments": {},
      "cell_type": "markdown",
      "metadata": {
        "id": "UMT_AzWypZdL"
      },
      "source": [
        "# **Pre-Training**"
      ]
    },
    {
      "cell_type": "code",
      "execution_count": null,
      "metadata": {
        "id": "JsMuX0NYpYxZ"
      },
      "outputs": [],
      "source": [
        "focal = LossFunctions.FocalLoss(weight0=0.2, weight1=0.8, gamma=2)\n",
        "\n",
        "lossFuncs = [[], [focal]]\n",
        "weights = [[], [1]]\n",
        "\n",
        "initEncoder = \"\"\n",
        "encoderFile = \"UsedModels/ProgressiveEncoder4\"\n",
        "\n",
        "encoder = Encoder(1)\n",
        "\n",
        "if initEncoder != \"\":\n",
        "    encoder.load_state_dict(torch.load(initEncoder))\n",
        "\n",
        "encoder = encoder.to(device)"
      ]
    },
    {
      "cell_type": "code",
      "execution_count": null,
      "metadata": {
        "id": "NR1JX1AeqQAO"
      },
      "outputs": [],
      "source": [
        "#Train Model\n",
        "gc.collect()\n",
        "\n",
        "if useWandB:\n",
        "    wandb.init(project=\"PreTrainedEncoder\",\n",
        "            name=\"UNetEncoder\",\n",
        "            config={\n",
        "                \"BatchSize\":batchSize,\n",
        "                \"LearnRate\":learnRate,\n",
        "                \"Epochs\":epochs,\n",
        "                \"StartDimension\":startDim,\n",
        "                \"EpochsToDouble\":epochsToDouble,\n",
        "            })\n",
        "\n",
        "print(TrainingEval.train(encoder, lossFuncs, weights, trainIter, validationIter, epochs, startEpoch, learnRate, device, startDim, epochsToDouble, encoderFile, epochsToSave, useWandB=useWandB, \n",
        "      cosineAnnealing=cosineAnnealing, restartEpochs=cosineRestartEpochs, progressive=progressive, encoder=True))\n",
        "\n",
        "if useWandB:\n",
        "    wandb.finish()"
      ]
    },
    {
      "cell_type": "code",
      "execution_count": null,
      "metadata": {
        "id": "PLEB6MZfqk4d"
      },
      "outputs": [],
      "source": [
        "lossFunc = LossFunctions.dice_loss\n",
        "\n",
        "encoder.load_state_dict(torch.load(encoderFile))\n",
        "\n",
        "segmenter = UNet(encoder=encoder)\n",
        "segmenter = segmenter.to(device)"
      ]
    },
    {
      "cell_type": "code",
      "execution_count": null,
      "metadata": {
        "id": "ti-Rck8Xq3sj"
      },
      "outputs": [],
      "source": [
        "#Train Model\n",
        "gc.collect()\n",
        "\n",
        "if useWandB:\n",
        "    wandb.init(project=\"LiverSegmentationPreTraining\",\n",
        "            name=\"NoWeights\",\n",
        "            config={\n",
        "                \"BatchSize\":batchSize,\n",
        "                \"LearnRate\":learnRate,\n",
        "                \"Epochs\":epochs,\n",
        "                \"StartDimension\":startDim,\n",
        "                \"EpochsToDouble\":epochsToDouble\n",
        "            })\n",
        "\n",
        "TrainingEval.train(segmenter, trainIter, validationIter, epochs, startEpoch, learnRate, batchSize, device, startDim, epochsToDouble, modelFile, epochsToSave, useWandB=useWandB, \n",
        "      cosineAnnealing=cosineAnnealing, restartEpochs=cosineRestartEpochs, progressive=0, lossFunc=lossFunc, classification=False)\n",
        "\n",
        "if useWandB:\n",
        "    wandb.finish()"
      ]
    },
    {
      "attachments": {},
      "cell_type": "markdown",
      "metadata": {
        "id": "JH2TvySW9ux8"
      },
      "source": [
        "# **Joint Training**"
      ]
    },
    {
      "cell_type": "code",
      "execution_count": 18,
      "metadata": {
        "colab": {
          "base_uri": "https://localhost:8080/",
          "height": 814
        },
        "id": "st2leTac4VsP",
        "outputId": "0ee0bbc1-6d44-4e32-8cfa-d737f988c191"
      },
      "outputs": [
        {
          "name": "stdout",
          "output_type": "stream",
          "text": [
            "Training on cuda\n",
            "Epoch 0:\n",
            "Train Loss: 0.42511942982673645 Validation Loss: 0.49436280131340027 dice_loss: tensor(0.9000, device='cuda:0') dice_score: tensor(0.1082, device='cuda:0') FocalLoss: tensor(0.0887, device='cuda:0') \n",
            "Epoch 1:\n",
            "Train Loss: 0.35181134939193726 Validation Loss: 0.4692806303501129 dice_loss: tensor(0.8306, device='cuda:0') dice_score: tensor(0.1747, device='cuda:0') FocalLoss: tensor(0.1080, device='cuda:0') \n",
            "Epoch 2:\n",
            "Train Loss: 0.32451122999191284 Validation Loss: 0.48027461767196655 dice_loss: tensor(0.8857, device='cuda:0') dice_score: tensor(0.1167, device='cuda:0') FocalLoss: tensor(0.0749, device='cuda:0') \n",
            "Epoch 3:\n",
            "Train Loss: 0.3036743402481079 Validation Loss: 0.468526691198349 dice_loss: tensor(0.7465, device='cuda:0') dice_score: tensor(0.4281, device='cuda:0') FocalLoss: tensor(0.1905, device='cuda:0') \n",
            "Epoch 4:\n",
            "Train Loss: 0.28877314925193787 Validation Loss: 0.2742435038089752 dice_loss: tensor(0.5234, device='cuda:0') dice_score: tensor(0.8133, device='cuda:0') FocalLoss: tensor(0.0251, device='cuda:0') \n",
            "Epoch 5:\n",
            "Train Loss: 0.2778448462486267 Validation Loss: 0.2103346437215805 dice_loss: tensor(0.3303, device='cuda:0') dice_score: tensor(0.7797, device='cuda:0') FocalLoss: tensor(0.0904, device='cuda:0') \n",
            "Epoch 6:\n",
            "Train Loss: 0.21256399154663086 Validation Loss: 0.46758198738098145 dice_loss: tensor(0.8353, device='cuda:0') dice_score: tensor(0.1683, device='cuda:0') FocalLoss: tensor(0.0999, device='cuda:0') \n",
            "Epoch 7:\n",
            "Train Loss: 0.1977088749408722 Validation Loss: 0.20910555124282837 dice_loss: tensor(0.2514, device='cuda:0') dice_score: tensor(0.7510, device='cuda:0') FocalLoss: tensor(0.1668, device='cuda:0') \n",
            "Epoch 8:\n",
            "Train Loss: 0.2748980224132538 Validation Loss: 0.21779265999794006 dice_loss: tensor(0.2505, device='cuda:0') dice_score: tensor(0.7510, device='cuda:0') FocalLoss: tensor(0.1850, device='cuda:0') \n",
            "Epoch 9:\n",
            "Train Loss: 0.26893988251686096 Validation Loss: 0.2240900993347168 dice_loss: tensor(0.2504, device='cuda:0') dice_score: tensor(0.7510, device='cuda:0') FocalLoss: tensor(0.1978, device='cuda:0') \n",
            "Epoch 10:\n",
            "Train Loss: 0.2528391182422638 Validation Loss: 0.1731574684381485 dice_loss: tensor(0.2493, device='cuda:0') dice_score: tensor(0.7510, device='cuda:0') FocalLoss: tensor(0.0970, device='cuda:0') \n",
            "Epoch 11:\n",
            "Train Loss: 0.2520652413368225 Validation Loss: 0.20950861275196075 dice_loss: tensor(0.2492, device='cuda:0') dice_score: tensor(0.7510, device='cuda:0') FocalLoss: tensor(0.1698, device='cuda:0') \n",
            "Epoch 12:\n",
            "Train Loss: 0.24615682661533356 Validation Loss: 0.20461559295654297 dice_loss: tensor(0.2491, device='cuda:0') dice_score: tensor(0.7510, device='cuda:0') FocalLoss: tensor(0.1601, device='cuda:0') \n",
            "Epoch 13:\n",
            "Train Loss: 0.24693818390369415 Validation Loss: 0.27194154262542725 dice_loss: tensor(0.2491, device='cuda:0') dice_score: tensor(0.7510, device='cuda:0') FocalLoss: tensor(0.2948, device='cuda:0') \n",
            "Epoch 14:\n",
            "Train Loss: 0.2450120598077774 Validation Loss: 0.18392261862754822 dice_loss: tensor(0.2490, device='cuda:0') dice_score: tensor(0.7510, device='cuda:0') FocalLoss: tensor(0.1188, device='cuda:0') \n",
            "Epoch 15:\n",
            "Train Loss: 0.24408890306949615 Validation Loss: 0.25800999999046326 dice_loss: tensor(0.2490, device='cuda:0') dice_score: tensor(0.7510, device='cuda:0') FocalLoss: tensor(0.2670, device='cuda:0') \n",
            "Epoch 16:\n",
            "Train Loss: 0.1701480746269226 Validation Loss: 0.2682884931564331 dice_loss: tensor(0.2495, device='cuda:0') dice_score: tensor(0.7510, device='cuda:0') FocalLoss: tensor(0.2870, device='cuda:0') \n",
            "Epoch 17:\n",
            "Train Loss: 0.1258557140827179 Validation Loss: 0.26339519023895264 dice_loss: tensor(0.2433, device='cuda:0') dice_score: tensor(0.7637, device='cuda:0') FocalLoss: tensor(0.2835, device='cuda:0') \n",
            "Epoch 18:\n",
            "Train Loss: 0.07789511978626251 Validation Loss: 0.15775170922279358 dice_loss: tensor(0.1775, device='cuda:0') dice_score: tensor(0.8226, device='cuda:0') FocalLoss: tensor(0.1380, device='cuda:0') \n",
            "Epoch 19:\n",
            "Train Loss: 0.06892246007919312 Validation Loss: 0.21474456787109375 dice_loss: tensor(0.1183, device='cuda:0') dice_score: tensor(0.8818, device='cuda:0') FocalLoss: tensor(0.3112, device='cuda:0') \n",
            "Epoch 20:\n",
            "Train Loss: 0.14680984616279602 Validation Loss: 0.22111307084560394 dice_loss: tensor(0.2491, device='cuda:0') dice_score: tensor(0.7510, device='cuda:0') FocalLoss: tensor(0.1931, device='cuda:0') \n",
            "Epoch 21:\n",
            "Train Loss: 0.25503116846084595 Validation Loss: 0.20059096813201904 dice_loss: tensor(0.2490, device='cuda:0') dice_score: tensor(0.7510, device='cuda:0') FocalLoss: tensor(0.1522, device='cuda:0') \n",
            "Epoch 22:\n",
            "Train Loss: 0.2446962594985962 Validation Loss: 0.25240740180015564 dice_loss: tensor(0.2490, device='cuda:0') dice_score: tensor(0.7510, device='cuda:0') FocalLoss: tensor(0.2558, device='cuda:0') \n",
            "Epoch 23:\n",
            "Train Loss: 0.2460448145866394 Validation Loss: 0.30945947766304016 dice_loss: tensor(0.2490, device='cuda:0') dice_score: tensor(0.7510, device='cuda:0') FocalLoss: tensor(0.3699, device='cuda:0') \n",
            "Epoch 24:\n",
            "Train Loss: 0.24356018006801605 Validation Loss: 0.25985002517700195 dice_loss: tensor(0.2490, device='cuda:0') dice_score: tensor(0.7510, device='cuda:0') FocalLoss: tensor(0.2707, device='cuda:0') \n",
            "Epoch 25:\n",
            "Train Loss: 0.24308174848556519 Validation Loss: 0.23022997379302979 dice_loss: tensor(0.2490, device='cuda:0') dice_score: tensor(0.7510, device='cuda:0') FocalLoss: tensor(0.2115, device='cuda:0') \n",
            "Epoch 26:\n",
            "Train Loss: 0.2430371195077896 Validation Loss: 0.21628867089748383 dice_loss: tensor(0.2490, device='cuda:0') dice_score: tensor(0.7510, device='cuda:0') FocalLoss: tensor(0.1836, device='cuda:0') \n",
            "Epoch 27:\n",
            "Train Loss: 0.24189096689224243 Validation Loss: 0.23651093244552612 dice_loss: tensor(0.2490, device='cuda:0') dice_score: tensor(0.7510, device='cuda:0') FocalLoss: tensor(0.2240, device='cuda:0') \n"
          ]
        },
        {
          "ename": "KeyboardInterrupt",
          "evalue": "",
          "output_type": "error",
          "traceback": [
            "\u001b[1;31m---------------------------------------------------------------------------\u001b[0m",
            "\u001b[1;31mKeyboardInterrupt\u001b[0m                         Traceback (most recent call last)",
            "Cell \u001b[1;32mIn[18], line 19\u001b[0m\n\u001b[0;32m     16\u001b[0m lossFuncs \u001b[39m=\u001b[39m [[LossFunctions\u001b[39m.\u001b[39mdice_loss, LossFunctions\u001b[39m.\u001b[39mdice_score], [classLossFunc]]\n\u001b[0;32m     17\u001b[0m weights \u001b[39m=\u001b[39m [[\u001b[39m0.5\u001b[39m, \u001b[39m0\u001b[39m], [\u001b[39m0.5\u001b[39m]]\n\u001b[1;32m---> 19\u001b[0m TrainingEval\u001b[39m.\u001b[39;49mtrain(segmenter, lossFuncs, weights, trainIter, validationIter, epochs, startEpoch, learnRate, device, startDim, epochsToDouble, modelFile, epochsToSave, useWandB\u001b[39m=\u001b[39;49museWandB, \n\u001b[0;32m     20\u001b[0m       cosineAnnealing\u001b[39m=\u001b[39;49mcosineAnnealing, restartEpochs\u001b[39m=\u001b[39;49mcosineRestartEpochs, progressive\u001b[39m=\u001b[39;49m\u001b[39m0\u001b[39;49m)\n\u001b[0;32m     22\u001b[0m \u001b[39mif\u001b[39;00m useWandB:\n\u001b[0;32m     23\u001b[0m     wandb\u001b[39m.\u001b[39mfinish()\n",
            "File \u001b[1;32mc:\\Users\\amose\\Documents\\GitHub\\CTLiverSegmentation\\TrainingEval.py:167\u001b[0m, in \u001b[0;36mtrain\u001b[1;34m(net, lossFuncs, weights, trainIter, testIter, numEpochs, startEpoch, learnRate, device, startDim, epochsToDouble, modelFileName, epochsToSave, useWandB, cosineAnnealing, restartEpochs, progressive, encoder)\u001b[0m\n\u001b[0;32m    164\u001b[0m \u001b[39mif\u001b[39;00m (epoch \u001b[39m+\u001b[39m \u001b[39m1\u001b[39m) \u001b[39m%\u001b[39m epochsToSave \u001b[39m==\u001b[39m \u001b[39m0\u001b[39m:\n\u001b[0;32m    165\u001b[0m     torch\u001b[39m.\u001b[39msave(net\u001b[39m.\u001b[39mstate_dict(), modelFileName \u001b[39m+\u001b[39m \u001b[39m\"\u001b[39m\u001b[39mEpoch\u001b[39m\u001b[39m\"\u001b[39m \u001b[39m+\u001b[39m \u001b[39mstr\u001b[39m(epoch))\n\u001b[1;32m--> 167\u001b[0m valLosses \u001b[39m=\u001b[39m evaluate(net, testIter, lossFuncs, device\u001b[39m=\u001b[39;49mdevice, encoder\u001b[39m=\u001b[39;49mencoder)\n\u001b[0;32m    169\u001b[0m validationLoss \u001b[39m=\u001b[39m \u001b[39m0\u001b[39m\n\u001b[0;32m    171\u001b[0m logStr \u001b[39m=\u001b[39m \u001b[39m\"\u001b[39m\u001b[39m\"\u001b[39m\n",
            "File \u001b[1;32mc:\\Users\\amose\\Documents\\GitHub\\CTLiverSegmentation\\TrainingEval.py:66\u001b[0m, in \u001b[0;36mevaluate\u001b[1;34m(net, testIter, lossFuncs, device, encoder)\u001b[0m\n\u001b[0;32m     63\u001b[0m \u001b[39mfor\u001b[39;00m i, segmentLoss \u001b[39min\u001b[39;00m \u001b[39menumerate\u001b[39m(lossFuncs[\u001b[39m0\u001b[39m]):\n\u001b[0;32m     64\u001b[0m     l \u001b[39m=\u001b[39m segmentLoss(yhat[\u001b[39m0\u001b[39m] \u001b[39mif\u001b[39;00m \u001b[39misinstance\u001b[39m(yhat, \u001b[39mtuple\u001b[39m) \u001b[39melse\u001b[39;00m yhat, y1)\n\u001b[1;32m---> 66\u001b[0m     \u001b[39mif\u001b[39;00m l \u001b[39m>\u001b[39;49m\u001b[39m=\u001b[39;49m \u001b[39m0\u001b[39;49m:\n\u001b[0;32m     67\u001b[0m         metric[\u001b[39m0\u001b[39m][i] \u001b[39m+\u001b[39m\u001b[39m=\u001b[39m l\n\u001b[0;32m     68\u001b[0m         lengths[\u001b[39m0\u001b[39m][i] \u001b[39m+\u001b[39m\u001b[39m=\u001b[39m \u001b[39m1\u001b[39m\n",
            "\u001b[1;31mKeyboardInterrupt\u001b[0m: "
          ]
        }
      ],
      "source": [
        "segmenter = UNet()\n",
        "\n",
        "if useWandB:\n",
        "    wandb.init(project=\"LiverSegmentationJointTraining\",\n",
        "            name=\"Weights:\",\n",
        "            config={\n",
        "                \"BatchSize\":batchSize,\n",
        "                \"LearnRate\":learnRate,\n",
        "                \"Epochs\":epochs,\n",
        "                \"StartDimension\":startDim,\n",
        "                \"EpochsToDouble\":epochsToDouble\n",
        "            })\n",
        "\n",
        "classLossFunc = LossFunctions.FocalLoss(weight0=0.2, weight1=0.8, gamma=2)\n",
        "\n",
        "lossFuncs = [[LossFunctions.dice_loss, LossFunctions.dice_score], [classLossFunc]]\n",
        "weights = [[0.5, 0], [0.5]]\n",
        "\n",
        "TrainingEval.train(segmenter, lossFuncs, weights, trainIter, validationIter, epochs, startEpoch, learnRate, device, startDim, epochsToDouble, modelFile, epochsToSave, useWandB=useWandB, \n",
        "      cosineAnnealing=cosineAnnealing, restartEpochs=cosineRestartEpochs, progressive=0)\n",
        "\n",
        "if useWandB:\n",
        "    wandb.finish()"
      ]
    },
    {
      "attachments": {},
      "cell_type": "markdown",
      "metadata": {
        "id": "iipij4bjp9hs"
      },
      "source": [
        "# **Evaluation/Ending**"
      ]
    },
    {
      "cell_type": "code",
      "execution_count": 15,
      "metadata": {
        "colab": {
          "base_uri": "https://localhost:8080/"
        },
        "id": "h1tLSjzH2F-Z",
        "outputId": "2f548a4b-f201-45cc-e02e-1c90911370e8"
      },
      "outputs": [
        {
          "name": "stdout",
          "output_type": "stream",
          "text": [
            "Model: \n",
            "dice_score: tensor(0.9203, device='cuda:0') avgHausdorff: 3.4433936719399916 accuracy: 0.9381313131313131 f1: 0.48667628667628654 \n"
          ]
        }
      ],
      "source": [
        "modelName = \"\"\n",
        "classification = False\n",
        "modelFile = \"UsedModels/JointTrainUNet0.5-0.5BestLoss\"\n",
        "classLossFunc = LossFunctions.FocalLoss(weight0=0.2, weight1=0.8, gamma=2)\n",
        "\n",
        "lossFuncs = [[LossFunctions.dice_score, LossFunctions.avgHausdorff], [LossFunctions.accuracy, LossFunctions.f1]]\n",
        "\n",
        "if classification:\n",
        "    net = encoder\n",
        "    net.load_state_dict(torch.load(encoderFile))\n",
        "else:\n",
        "    net = UNet(1).to(device)\n",
        "    net.load_state_dict(torch.load(modelFile))\n",
        "\n",
        "#Evaluate Model\n",
        "print(f\"Model: {modelName}\")\n",
        "\n",
        "losses = TrainingEval.evaluate(net, testIter, lossFuncs, device=device, encoder=False)\n",
        "logStr = \"\"\n",
        "for i, arr in enumerate(losses):\n",
        "    for j, val in enumerate(arr):\n",
        "        logStr += (lossFuncs[i][j].__name__ if str(type(lossFuncs[i][j])) == \"<class 'function'>\" else type(lossFuncs[i][j]).__name__) + \": \" + str(val) + \" \"\n",
        "\n",
        "print(logStr)"
      ]
    },
    {
      "cell_type": "code",
      "execution_count": null,
      "metadata": {
        "id": "KI_1aq7_VJ01"
      },
      "outputs": [],
      "source": [
        "modelFile = \"\"\n",
        "dataset = LITSBinaryDataset(\"\")\n",
        "iter = DataLoader(dataset, batch_size=batchSize)\n",
        "\n",
        "net = UNet(0)\n",
        "net.load_state_dict(torch.load(modelFile))\n",
        "\n",
        "net.to(device)\n",
        "\n",
        "segmentationMask = TrainingEval.getMasks(net, iter, device=device)\n",
        "\n",
        "masksFile = \"\"\n",
        "wFile = h5py.File(masksFile, \"w\")\n",
        "\n",
        "for i, slice in enumerate(segmentationMask):\n",
        "    wFile.create_dataset(\"Slice\" + str(i), data=slice)\n",
        "\n",
        "wFile.close()"
      ]
    },
    {
      "cell_type": "code",
      "execution_count": null,
      "metadata": {
        "id": "7LDAG1Pd2KXN"
      },
      "outputs": [],
      "source": [
        "#Close datasets\n",
        "trainDataset.closeFile()\n",
        "validationDataset.closeFile()\n",
        "testDataset.closeFile()"
      ]
    }
  ],
  "metadata": {
    "accelerator": "GPU",
    "colab": {
      "collapsed_sections": [
        "IGcZ_Vm5n5Yv",
        "6g1MsLCCoDhb",
        "6adquwMWoH0B",
        "D2RziTUxY8jV",
        "s4TpJ7zaoLed",
        "blz2NJ-mo_vJ",
        "UMT_AzWypZdL"
      ],
      "provenance": []
    },
    "gpuClass": "standard",
    "kernelspec": {
      "display_name": "base",
      "language": "python",
      "name": "python3"
    },
    "language_info": {
      "codemirror_mode": {
        "name": "ipython",
        "version": 3
      },
      "file_extension": ".py",
      "mimetype": "text/x-python",
      "name": "python",
      "nbconvert_exporter": "python",
      "pygments_lexer": "ipython3",
      "version": "3.9.16"
    },
    "vscode": {
      "interpreter": {
        "hash": "ea23a5d6ea5dd6b47a6bacc48f8acbc6e91dc182fa6b25270d70228f0691131c"
      }
    }
  },
  "nbformat": 4,
  "nbformat_minor": 0
}

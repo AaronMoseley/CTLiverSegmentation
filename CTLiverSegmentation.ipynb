{
  "cells": [
    {
      "attachments": {},
      "cell_type": "markdown",
      "metadata": {},
      "source": [
        "# **Setup**"
      ]
    },
    {
      "cell_type": "code",
      "execution_count": null,
      "metadata": {
        "colab": {
          "base_uri": "https://localhost:8080/"
        },
        "id": "sbV9155tKF7w",
        "outputId": "2f70abef-f597-48fe-b05a-60e8f6a0399d"
      },
      "outputs": [],
      "source": [
        "import wandb\n",
        "wandb.login()"
      ]
    },
    {
      "cell_type": "code",
      "execution_count": 1,
      "metadata": {
        "id": "UySZvCsHhycT"
      },
      "outputs": [],
      "source": [
        "import torch\n",
        "from torch.utils.data import DataLoader\n",
        "#from torchsummary import summary\n",
        "import gc\n",
        "import h5py\n",
        "from UNet import UNet, Encoder, ContrastiveEncoder\n",
        "from LITSDataset import LITSBinaryDataset, LITSContDataset\n",
        "import LossFunctions\n",
        "import TrainingEval\n",
        "from tqdm import tqdm"
      ]
    },
    {
      "cell_type": "code",
      "execution_count": 2,
      "metadata": {
        "id": "tbHyODbs1XNH"
      },
      "outputs": [],
      "source": [
        "#Hyperparameters and training modifications\n",
        "device = torch.device(\"cuda\") if torch.cuda.is_available() else torch.device(\"cpu\")\n",
        "#device = torch.device(\"cpu\")\n",
        "\n",
        "modelName = \"ContrastiveEncoder1\"\n",
        "modelFile = \"UsedModels/\" + modelName\n",
        "configFile = \"testConfig.txt\"\n",
        "\n",
        "startEpoch = 0\n",
        "useWandB = 0\n",
        "batchSize = 0\n",
        "learnRate = 0\n",
        "epochs = 0\n",
        "startDim = 0\n",
        "epochsToDouble = 0\n",
        "progressive = 0\n",
        "epochsToSave = 0\n",
        "cosineAnnealing = 0\n",
        "cosineRestartEpochs = 0\n",
        "\n",
        "varDict = {\n",
        "    \"startEpoch\":startEpoch,\n",
        "    \"useWandB\":useWandB,\n",
        "    \"batchSize\":batchSize,\n",
        "    \"learnRate\":learnRate,\n",
        "    \"epochs\":epochs,\n",
        "    \"startDim\":startDim,\n",
        "    \"epochsToDouble\":epochsToDouble,\n",
        "    \"progressive\":progressive,\n",
        "    \"epochsToSave\":epochsToSave,\n",
        "    \"cosineAnnealing\":cosineAnnealing,\n",
        "    \"cosineRestartEpochs\":cosineRestartEpochs,\n",
        "}\n",
        "\n",
        "TrainingEval.ParseConfig(configFile, varDict)\n",
        "\n",
        "for key in varDict:\n",
        "    if varDict[key].is_integer():\n",
        "        locals()[key] = int(varDict[key])\n",
        "    else:\n",
        "        locals()[key] = varDict[key]"
      ]
    },
    {
      "cell_type": "code",
      "execution_count": 3,
      "metadata": {
        "colab": {
          "base_uri": "https://localhost:8080/"
        },
        "id": "o0JenAeF1rFu",
        "outputId": "cfa27150-7236-40f2-ac04-f7babcee52a2"
      },
      "outputs": [
        {
          "name": "stdout",
          "output_type": "stream",
          "text": [
            "Datasets loaded\n"
          ]
        }
      ],
      "source": [
        "#Load Datasets\n",
        "trainDataset = LITSBinaryDataset(\"Datasets/StandardDatasets/FullTrainDataset.hdf5\")\n",
        "validationDataset = LITSBinaryDataset(\"Datasets/StandardDatasets/ValidationDataset.hdf5\")\n",
        "testDataset = LITSBinaryDataset(\"Datasets/StandardDatasets/TestDataset.hdf5\")\n",
        "\n",
        "trainIter = DataLoader(trainDataset, batch_size=batchSize, shuffle=True)\n",
        "validationIter = DataLoader(validationDataset, batch_size=batchSize)\n",
        "testIter = DataLoader(testDataset, batch_size=batchSize)\n",
        "\n",
        "print(\"Datasets loaded\")"
      ]
    },
    {
      "attachments": {},
      "cell_type": "markdown",
      "metadata": {
        "id": "blz2NJ-mo_vJ"
      },
      "source": [
        "# **Standard Training**"
      ]
    },
    {
      "cell_type": "code",
      "execution_count": null,
      "metadata": {
        "colab": {
          "base_uri": "https://localhost:8080/"
        },
        "id": "qvELD2iw1fgj",
        "outputId": "f177e2e7-9382-4335-f9b2-247aed63209b"
      },
      "outputs": [],
      "source": [
        "#Load model\n",
        "initModel = \"\"\n",
        "\n",
        "lossFuncs = [[LossFunctions.dice_loss, LossFunctions.dice_score], []]\n",
        "weights = [[1, 0], []]\n",
        "\n",
        "segmenter = UNet(1)\n",
        "#print(summary(net, (1, 256, 256)))\n",
        "\n",
        "#Loads model from file if using a pretrained version\n",
        "if initModel != \"\":\n",
        "    segmenter.load_state_dict(torch.load(initModel))\n",
        "\n",
        "segmenter = segmenter.to(device)\n",
        "\n",
        "print(\"Intialized standard UNet model\")"
      ]
    },
    {
      "cell_type": "code",
      "execution_count": null,
      "metadata": {
        "id": "8YVz5cMohycW"
      },
      "outputs": [],
      "source": [
        "#Train Model\n",
        "\n",
        "if useWandB:\n",
        "    wandb.init(project=\"LiverSegmentation\",\n",
        "            name=modelName,\n",
        "            config={\n",
        "                \"BatchSize\":batchSize,\n",
        "                \"LearnRate\":learnRate,\n",
        "                \"Epochs\":epochs,\n",
        "                \"StartDimension\":startDim,\n",
        "                \"EpochsToDouble\":epochsToDouble\n",
        "            })\n",
        "\n",
        "TrainingEval.train(segmenter, lossFuncs, weights, trainIter, validationIter, epochs, startEpoch, learnRate, device, startDim, epochsToDouble, modelFile, epochsToSave, useWandB=useWandB, \n",
        "      cosineAnnealing=cosineAnnealing, restartEpochs=cosineRestartEpochs, progressive=progressive)\n",
        "\n",
        "if useWandB:\n",
        "    wandb.finish()"
      ]
    },
    {
      "attachments": {},
      "cell_type": "markdown",
      "metadata": {
        "id": "UMT_AzWypZdL"
      },
      "source": [
        "# **Pre-Training**"
      ]
    },
    {
      "cell_type": "code",
      "execution_count": null,
      "metadata": {
        "id": "JsMuX0NYpYxZ"
      },
      "outputs": [],
      "source": [
        "focal = LossFunctions.FocalLoss(weight0=0.1, weight1=0.9, gamma=2)\n",
        "\n",
        "lossFuncs = [[], [focal, LossFunctions.accuracy, LossFunctions.f1]]\n",
        "weights = [[], [1, 0, 0]]\n",
        "\n",
        "initEncoder = \"Run 2/Progressive Encoders/ProgEncoder10\"\n",
        "encoderFile = \"UsedModels/Encoder1\"\n",
        "\n",
        "encoder = Encoder(1)\n",
        "\n",
        "if initEncoder != \"\":\n",
        "    encoder.load_state_dict(torch.load(initEncoder))\n",
        "\n",
        "encoder = encoder.to(device)"
      ]
    },
    {
      "cell_type": "code",
      "execution_count": null,
      "metadata": {
        "id": "NR1JX1AeqQAO"
      },
      "outputs": [],
      "source": [
        "#Train Model\n",
        "gc.collect()\n",
        "\n",
        "if useWandB:\n",
        "    wandb.init(project=\"PreTrainedEncoder\",\n",
        "            name=\"UNetEncoder\",\n",
        "            config={\n",
        "                \"BatchSize\":batchSize,\n",
        "                \"LearnRate\":learnRate,\n",
        "                \"Epochs\":epochs,\n",
        "                \"StartDimension\":startDim,\n",
        "                \"EpochsToDouble\":epochsToDouble,\n",
        "            })\n",
        "\n",
        "print(TrainingEval.train(encoder, lossFuncs, weights, trainIter, validationIter, epochs, startEpoch, learnRate, device, startDim, epochsToDouble, encoderFile, epochsToSave, useWandB=useWandB, \n",
        "      cosineAnnealing=cosineAnnealing, restartEpochs=cosineRestartEpochs, progressive=progressive, encoder=True))\n",
        "\n",
        "if useWandB:\n",
        "    wandb.finish()"
      ]
    },
    {
      "cell_type": "code",
      "execution_count": null,
      "metadata": {
        "id": "PLEB6MZfqk4d"
      },
      "outputs": [],
      "source": [
        "segmenter = UNet(encoder=encoder)\n",
        "\n",
        "lossFuncs = [[LossFunctions.dice_loss, LossFunctions.dice_score], []]\n",
        "weights = [[1, 0], []]"
      ]
    },
    {
      "cell_type": "code",
      "execution_count": null,
      "metadata": {
        "id": "ti-Rck8Xq3sj"
      },
      "outputs": [],
      "source": [
        "#Train Model\n",
        "gc.collect()\n",
        "\n",
        "if useWandB:\n",
        "    wandb.init(project=\"LiverSegmentationPreTraining\",\n",
        "            name=\"NoWeights\",\n",
        "            config={\n",
        "                \"BatchSize\":batchSize,\n",
        "                \"LearnRate\":learnRate,\n",
        "                \"Epochs\":epochs,\n",
        "                \"StartDimension\":startDim,\n",
        "                \"EpochsToDouble\":epochsToDouble\n",
        "            })\n",
        "\n",
        "TrainingEval.train(segmenter, lossFuncs, weights, trainIter, validationIter, epochs, startEpoch, learnRate, device, startDim, epochsToDouble, modelFile, epochsToSave, useWandB=useWandB, \n",
        "      cosineAnnealing=cosineAnnealing, restartEpochs=cosineRestartEpochs, progressive=0)\n",
        "\n",
        "if useWandB:\n",
        "    wandb.finish()"
      ]
    },
    {
      "attachments": {},
      "cell_type": "markdown",
      "metadata": {
        "id": "JH2TvySW9ux8"
      },
      "source": [
        "# **Joint Training**"
      ]
    },
    {
      "cell_type": "code",
      "execution_count": null,
      "metadata": {
        "colab": {
          "base_uri": "https://localhost:8080/",
          "height": 814
        },
        "id": "st2leTac4VsP",
        "outputId": "0ee0bbc1-6d44-4e32-8cfa-d737f988c191"
      },
      "outputs": [],
      "source": [
        "segmenter = UNet(device, multiTask=False, classThreshold=0, segmentThreshold=0)\n",
        "\n",
        "if useWandB:\n",
        "    wandb.init(project=\"LiverSegmentationJointTraining\",\n",
        "            name=\"Weights:\",\n",
        "            config={\n",
        "                \"BatchSize\":batchSize,\n",
        "                \"LearnRate\":learnRate,\n",
        "                \"Epochs\":epochs,\n",
        "                \"StartDimension\":startDim,\n",
        "                \"EpochsToDouble\":epochsToDouble\n",
        "            })\n",
        "\n",
        "classLossFunc = LossFunctions.FocalLoss(weight0=0.2, weight1=0.8, gamma=2)\n",
        "\n",
        "lossFuncs = [[LossFunctions.dice_score, LossFunctions.dice_loss], [LossFunctions.accuracy, classLossFunc]]\n",
        "weights = [[0, 0.5], [0, 0.5]]\n",
        "\n",
        "TrainingEval.train(segmenter, lossFuncs, weights, trainIter, validationIter, epochs, startEpoch, learnRate, device, startDim, epochsToDouble, modelFile, epochsToSave, useWandB=useWandB, \n",
        "      cosineAnnealing=cosineAnnealing, restartEpochs=cosineRestartEpochs, progressive=progressive)\n",
        "\n",
        "if useWandB:\n",
        "    wandb.finish()"
      ]
    },
    {
      "cell_type": "markdown",
      "metadata": {},
      "source": [
        "# **Contrastive Pre-Training**"
      ]
    },
    {
      "cell_type": "code",
      "execution_count": null,
      "metadata": {},
      "outputs": [],
      "source": [
        "contTrainDataset = LITSContDataset(\"Datasets/ContrastiveDatasets/ContrastiveTrainDataset.hdf5\")\n",
        "contValDataset = LITSContDataset(\"Datasets/ContrastiveDatasets/ContrastiveValidationDataset.hdf5\")\n",
        "contTestDataset = LITSContDataset(\"Datasets/ContrastiveDatasets/ContrastiveTestDataset.hdf5\")\n",
        "\n",
        "contTrainIter = DataLoader(contTrainDataset, batch_size=batchSize, shuffle=True)\n",
        "contValidationIter = DataLoader(contValDataset, batch_size=batchSize)\n",
        "contTestIter = DataLoader(contTestDataset, batch_size=batchSize)"
      ]
    },
    {
      "cell_type": "code",
      "execution_count": null,
      "metadata": {},
      "outputs": [],
      "source": [
        "for i in tqdm(range(10)):\n",
        "    modelName = \"ContrastiveEncoder\" + str(i)\n",
        "    modelFile = \"UsedModels/\" + modelName\n",
        "    encoder = ContrastiveEncoder()\n",
        "\n",
        "    if useWandB:\n",
        "        wandb.init(project=\"LITSEncoderContrastive\",\n",
        "                name=\"Weights:\",\n",
        "                config={\n",
        "                    \"BatchSize\":batchSize,\n",
        "                    \"LearnRate\":learnRate,\n",
        "                    \"Epochs\":epochs,\n",
        "                    \"StartDimension\":startDim,\n",
        "                    \"EpochsToDouble\":epochsToDouble\n",
        "                })\n",
        "        \n",
        "    #lossFunc = LossFunctions.ContrastiveLossEuclidean\n",
        "    lossFunc = LossFunctions.ContrastiveLossCosine(temp=(1 / batchSize))\n",
        "\n",
        "    TrainingEval.contrastiveTrain(encoder, lossFunc, contTrainIter, contValidationIter, epochs, startEpoch, learnRate, device, modelFile, epochsToSave, useWandB=useWandB, \n",
        "        cosineAnnealing=cosineAnnealing, restartEpochs=cosineRestartEpochs, isDist=False)\n",
        "\n",
        "    if useWandB:\n",
        "        wandb.finish()\n",
        "\n",
        "    print(\"Model: \" + str(i) + \" finished\")"
      ]
    },
    {
      "cell_type": "code",
      "execution_count": null,
      "metadata": {},
      "outputs": [],
      "source": [
        "initEncoder = \"ContrastiveTest/ContrastiveTest1Encoder\"\n",
        "\n",
        "encoder = ContrastiveEncoder()\n",
        "encoder.load_state_dict(torch.load(initEncoder), strict=False)\n",
        "\n",
        "segmenter = UNet(device, encoder=encoder)\n",
        "#segmenter.freezeEncoder()\n",
        "\n",
        "lossFuncs = [[LossFunctions.dice_loss, LossFunctions.dice_score], []]\n",
        "weights = [[1, 0], []]"
      ]
    },
    {
      "cell_type": "code",
      "execution_count": null,
      "metadata": {},
      "outputs": [],
      "source": [
        "for i in tqdm([2,4,8]):\n",
        "    initEncoder = \"UsedModels/ContrastiveEncoder\" + str(i)\n",
        "    modelFile = \"UsedModels/ContFineTune\" + str(i)\n",
        "\n",
        "    print(modelFile)\n",
        "\n",
        "    encoder = ContrastiveEncoder()\n",
        "    encoder.load_state_dict(torch.load(initEncoder), strict=False)\n",
        "\n",
        "    segmenter = UNet(device, encoder=encoder)\n",
        "    #segmenter.freezeEncoder()\n",
        "\n",
        "    lossFuncs = [[LossFunctions.dice_loss, LossFunctions.dice_score], []]\n",
        "    weights = [[1, 0], []]\n",
        "\n",
        "    #Train Model\n",
        "    gc.collect()\n",
        "\n",
        "    if useWandB:\n",
        "        wandb.init(project=\"LiverSegmentationPreTraining\",\n",
        "                name=\"NoWeights\",\n",
        "                config={\n",
        "                    \"BatchSize\":batchSize,\n",
        "                    \"LearnRate\":learnRate,\n",
        "                    \"Epochs\":epochs,\n",
        "                    \"StartDimension\":startDim,\n",
        "                    \"EpochsToDouble\":epochsToDouble\n",
        "                })\n",
        "\n",
        "    TrainingEval.train(segmenter, lossFuncs, weights, trainIter, validationIter, epochs, startEpoch, learnRate, device, startDim, epochsToDouble, modelFile, epochsToSave, useWandB=useWandB, \n",
        "        cosineAnnealing=cosineAnnealing, restartEpochs=cosineRestartEpochs, progressive=0)\n",
        "\n",
        "    if useWandB:\n",
        "        wandb.finish()"
      ]
    },
    {
      "attachments": {},
      "cell_type": "markdown",
      "metadata": {
        "id": "iipij4bjp9hs"
      },
      "source": [
        "# **Evaluation/Ending**"
      ]
    },
    {
      "cell_type": "code",
      "execution_count": 4,
      "metadata": {
        "colab": {
          "base_uri": "https://localhost:8080/"
        },
        "id": "h1tLSjzH2F-Z",
        "outputId": "2f548a4b-f201-45cc-e02e-1c90911370e8"
      },
      "outputs": [
        {
          "name": "stderr",
          "output_type": "stream",
          "text": [
            "  0%|          | 0/3 [00:00<?, ?it/s]\n"
          ]
        },
        {
          "ename": "FileNotFoundError",
          "evalue": "[Errno 2] No such file or directory: 'UsedModels/ContFineTune2'",
          "output_type": "error",
          "traceback": [
            "\u001b[1;31m---------------------------------------------------------------------------\u001b[0m",
            "\u001b[1;31mFileNotFoundError\u001b[0m                         Traceback (most recent call last)",
            "\u001b[1;32mc:\\Users\\ajmo276\\Documents\\GitHub\\CTLiverSegmentation\\CTLiverSegmentation.ipynb Cell 22\u001b[0m line \u001b[0;36m1\n\u001b[0;32m     <a href='vscode-notebook-cell:/c%3A/Users/ajmo276/Documents/GitHub/CTLiverSegmentation/CTLiverSegmentation.ipynb#X31sZmlsZQ%3D%3D?line=12'>13</a>\u001b[0m \u001b[39melse\u001b[39;00m:\n\u001b[0;32m     <a href='vscode-notebook-cell:/c%3A/Users/ajmo276/Documents/GitHub/CTLiverSegmentation/CTLiverSegmentation.ipynb#X31sZmlsZQ%3D%3D?line=13'>14</a>\u001b[0m     net \u001b[39m=\u001b[39m UNet(device, multiTask\u001b[39m=\u001b[39m\u001b[39mFalse\u001b[39;00m)\u001b[39m.\u001b[39mto(device)\n\u001b[1;32m---> <a href='vscode-notebook-cell:/c%3A/Users/ajmo276/Documents/GitHub/CTLiverSegmentation/CTLiverSegmentation.ipynb#X31sZmlsZQ%3D%3D?line=14'>15</a>\u001b[0m     net\u001b[39m.\u001b[39mload_state_dict(torch\u001b[39m.\u001b[39mload(modelFile), strict\u001b[39m=\u001b[39m\u001b[39mFalse\u001b[39;00m)\n\u001b[0;32m     <a href='vscode-notebook-cell:/c%3A/Users/ajmo276/Documents/GitHub/CTLiverSegmentation/CTLiverSegmentation.ipynb#X31sZmlsZQ%3D%3D?line=16'>17</a>\u001b[0m \u001b[39m#Evaluate Model\u001b[39;00m\n\u001b[0;32m     <a href='vscode-notebook-cell:/c%3A/Users/ajmo276/Documents/GitHub/CTLiverSegmentation/CTLiverSegmentation.ipynb#X31sZmlsZQ%3D%3D?line=17'>18</a>\u001b[0m \u001b[39mprint\u001b[39m(\u001b[39mf\u001b[39m\u001b[39m\"\u001b[39m\u001b[39mModel: \u001b[39m\u001b[39m{\u001b[39;00mmodelName\u001b[39m}\u001b[39;00m\u001b[39m\"\u001b[39m)\n",
            "File \u001b[1;32mc:\\Users\\ajmo276\\anaconda3\\Lib\\site-packages\\torch\\serialization.py:791\u001b[0m, in \u001b[0;36mload\u001b[1;34m(f, map_location, pickle_module, weights_only, **pickle_load_args)\u001b[0m\n\u001b[0;32m    788\u001b[0m \u001b[39mif\u001b[39;00m \u001b[39m'\u001b[39m\u001b[39mencoding\u001b[39m\u001b[39m'\u001b[39m \u001b[39mnot\u001b[39;00m \u001b[39min\u001b[39;00m pickle_load_args\u001b[39m.\u001b[39mkeys():\n\u001b[0;32m    789\u001b[0m     pickle_load_args[\u001b[39m'\u001b[39m\u001b[39mencoding\u001b[39m\u001b[39m'\u001b[39m] \u001b[39m=\u001b[39m \u001b[39m'\u001b[39m\u001b[39mutf-8\u001b[39m\u001b[39m'\u001b[39m\n\u001b[1;32m--> 791\u001b[0m \u001b[39mwith\u001b[39;00m _open_file_like(f, \u001b[39m'\u001b[39m\u001b[39mrb\u001b[39m\u001b[39m'\u001b[39m) \u001b[39mas\u001b[39;00m opened_file:\n\u001b[0;32m    792\u001b[0m     \u001b[39mif\u001b[39;00m _is_zipfile(opened_file):\n\u001b[0;32m    793\u001b[0m         \u001b[39m# The zipfile reader is going to advance the current file position.\u001b[39;00m\n\u001b[0;32m    794\u001b[0m         \u001b[39m# If we want to actually tail call to torch.jit.load, we need to\u001b[39;00m\n\u001b[0;32m    795\u001b[0m         \u001b[39m# reset back to the original position.\u001b[39;00m\n\u001b[0;32m    796\u001b[0m         orig_position \u001b[39m=\u001b[39m opened_file\u001b[39m.\u001b[39mtell()\n",
            "File \u001b[1;32mc:\\Users\\ajmo276\\anaconda3\\Lib\\site-packages\\torch\\serialization.py:271\u001b[0m, in \u001b[0;36m_open_file_like\u001b[1;34m(name_or_buffer, mode)\u001b[0m\n\u001b[0;32m    269\u001b[0m \u001b[39mdef\u001b[39;00m \u001b[39m_open_file_like\u001b[39m(name_or_buffer, mode):\n\u001b[0;32m    270\u001b[0m     \u001b[39mif\u001b[39;00m _is_path(name_or_buffer):\n\u001b[1;32m--> 271\u001b[0m         \u001b[39mreturn\u001b[39;00m _open_file(name_or_buffer, mode)\n\u001b[0;32m    272\u001b[0m     \u001b[39melse\u001b[39;00m:\n\u001b[0;32m    273\u001b[0m         \u001b[39mif\u001b[39;00m \u001b[39m'\u001b[39m\u001b[39mw\u001b[39m\u001b[39m'\u001b[39m \u001b[39min\u001b[39;00m mode:\n",
            "File \u001b[1;32mc:\\Users\\ajmo276\\anaconda3\\Lib\\site-packages\\torch\\serialization.py:252\u001b[0m, in \u001b[0;36m_open_file.__init__\u001b[1;34m(self, name, mode)\u001b[0m\n\u001b[0;32m    251\u001b[0m \u001b[39mdef\u001b[39;00m \u001b[39m__init__\u001b[39m(\u001b[39mself\u001b[39m, name, mode):\n\u001b[1;32m--> 252\u001b[0m     \u001b[39msuper\u001b[39m()\u001b[39m.\u001b[39m\u001b[39m__init__\u001b[39m(\u001b[39mopen\u001b[39m(name, mode))\n",
            "\u001b[1;31mFileNotFoundError\u001b[0m: [Errno 2] No such file or directory: 'UsedModels/ContFineTune2'"
          ]
        }
      ],
      "source": [
        "for i in tqdm([2, 4, 8]):\n",
        "    modelName = \"FineTuned\" + str(i)\n",
        "    classification = False\n",
        "    modelFile = \"UsedModels/ContFineTune\" + str(i)\n",
        "    classLossFunc = LossFunctions.FocalLoss(weight0=0.2, weight1=0.8, gamma=2)\n",
        "\n",
        "    lossFuncs = [[LossFunctions.dice_score, LossFunctions.hausdorff], []]\n",
        "    #lossFuncs = [[LossFunctions.dice_score, LossFunctions.hausdorff], [LossFunctions.accuracy, LossFunctions.f1]]\n",
        "\n",
        "    if classification:\n",
        "        net = encoder\n",
        "        net.load_state_dict(torch.load(modelFile), strict=False)\n",
        "    else:\n",
        "        net = UNet(device, multiTask=False).to(device)\n",
        "        net.load_state_dict(torch.load(modelFile), strict=False)\n",
        "\n",
        "    #Evaluate Model\n",
        "    print(f\"Model: {modelName}\")\n",
        "\n",
        "    losses = TrainingEval.evaluate(net, testIter, lossFuncs, device=device, encoder=classification)\n",
        "    logStr = \"\"\n",
        "    for i, arr in enumerate(losses):\n",
        "        for j, val in enumerate(arr):\n",
        "            logStr += (lossFuncs[i][j].__name__ if str(type(lossFuncs[i][j])) == \"<class 'function'>\" else type(lossFuncs[i][j]).__name__) + \": \" + str(val) + \" \"\n",
        "\n",
        "    print(logStr)"
      ]
    },
    {
      "cell_type": "code",
      "execution_count": null,
      "metadata": {},
      "outputs": [],
      "source": [
        "modelName = \"\"\n",
        "modelFile = \"UsedModels/ContrastiveTest1BestLoss\"\n",
        "\n",
        "net = ContrastiveEncoder().to(device)\n",
        "net.load_state_dict(torch.load(modelFile), strict=False)\n",
        "\n",
        "lossFunc = LossFunctions.ContrastiveLossCosine\n",
        "\n",
        "loss = TrainingEval.contrastiveEval(net, contTestIter, lossFunc, device=device, isDist=False)\n",
        "print(str(lossFunc) + \" \" + str(loss))"
      ]
    },
    {
      "cell_type": "code",
      "execution_count": null,
      "metadata": {
        "id": "KI_1aq7_VJ01"
      },
      "outputs": [],
      "source": [
        "#modelFile = \"Run 2/Standard Pre-Training/PretrainedUNet7\"\n",
        "modelFile = \"Run 2/Standard Pre-Training/PretrainedUNet6\"\n",
        "dataset = LITSBinaryDataset(\"Datasets/Scan1Dataset.hdf5\")\n",
        "iter = DataLoader(dataset, batch_size=batchSize)\n",
        "\n",
        "net = UNet(0)\n",
        "net.load_state_dict(torch.load(modelFile), strict=False)\n",
        "\n",
        "net.to(device)\n",
        "\n",
        "segmentationMask = TrainingEval.getMasks(net, iter, device=device)\n",
        "\n",
        "masksFile = \"PretrainMasksScan1\"\n",
        "wFile = h5py.File(masksFile, \"w\")\n",
        "\n",
        "for i, slice in enumerate(segmentationMask):\n",
        "    wFile.create_dataset(\"Slice\" + str(i), data=slice)\n",
        "\n",
        "wFile.close()"
      ]
    },
    {
      "cell_type": "code",
      "execution_count": null,
      "metadata": {
        "id": "7LDAG1Pd2KXN"
      },
      "outputs": [],
      "source": [
        "#Close datasets\n",
        "trainDataset.closeFile()\n",
        "validationDataset.closeFile()\n",
        "testDataset.closeFile()"
      ]
    }
  ],
  "metadata": {
    "accelerator": "GPU",
    "colab": {
      "collapsed_sections": [
        "IGcZ_Vm5n5Yv",
        "6g1MsLCCoDhb",
        "6adquwMWoH0B",
        "D2RziTUxY8jV",
        "s4TpJ7zaoLed",
        "blz2NJ-mo_vJ",
        "UMT_AzWypZdL"
      ],
      "provenance": []
    },
    "gpuClass": "standard",
    "kernelspec": {
      "display_name": "base",
      "language": "python",
      "name": "python3"
    },
    "language_info": {
      "codemirror_mode": {
        "name": "ipython",
        "version": 3
      },
      "file_extension": ".py",
      "mimetype": "text/x-python",
      "name": "python",
      "nbconvert_exporter": "python",
      "pygments_lexer": "ipython3",
      "version": "3.11.4"
    },
    "vscode": {
      "interpreter": {
        "hash": "ea23a5d6ea5dd6b47a6bacc48f8acbc6e91dc182fa6b25270d70228f0691131c"
      }
    }
  },
  "nbformat": 4,
  "nbformat_minor": 0
}

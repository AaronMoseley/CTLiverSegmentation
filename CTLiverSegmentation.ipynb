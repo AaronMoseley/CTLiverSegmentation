{
  "cells": [
    {
      "attachments": {},
      "cell_type": "markdown",
      "metadata": {},
      "source": [
        "# **Setup**"
      ]
    },
    {
      "cell_type": "code",
      "execution_count": null,
      "metadata": {
        "colab": {
          "base_uri": "https://localhost:8080/"
        },
        "id": "sbV9155tKF7w",
        "outputId": "2f70abef-f597-48fe-b05a-60e8f6a0399d"
      },
      "outputs": [],
      "source": [
        "import wandb\n",
        "wandb.login()"
      ]
    },
    {
      "cell_type": "code",
      "execution_count": null,
      "metadata": {
        "id": "UySZvCsHhycT"
      },
      "outputs": [],
      "source": [
        "import torch\n",
        "from torch.utils.data import DataLoader\n",
        "#from torchsummary import summary\n",
        "import gc\n",
        "import h5py\n",
        "from UNet import UNet, Encoder, ContrastiveEncoder, ResNetBlock, ResidualBlock, double_conv\n",
        "from LITSDataset import LITSBinaryDataset, LITSContDataset, LITSMultiClassDataset\n",
        "import LossFunctions\n",
        "import TrainingEval\n",
        "from tqdm import tqdm\n",
        "import os"
      ]
    },
    {
      "cell_type": "code",
      "execution_count": null,
      "metadata": {
        "id": "tbHyODbs1XNH"
      },
      "outputs": [],
      "source": [
        "#Hyperparameters and training modifications\n",
        "device = torch.device(\"cuda\") if torch.cuda.is_available() else torch.device(\"cpu\")\n",
        "#device = torch.device(\"cpu\")\n",
        "\n",
        "modelName = \"TotalSegmentatorTest3\"\n",
        "modelFile = \"UsedModels/\" + modelName\n",
        "configFile = \"testConfig.txt\"\n",
        "#configFile = \"evalConfig.txt\"\n",
        "#configFile = \"ContrastiveModels/contFineTuneConfig.txt\"\n",
        "\n",
        "startEpoch = 0\n",
        "useWandB = 0\n",
        "batchSize = 0\n",
        "learnRate = 0\n",
        "epochs = 0\n",
        "startDim = 0\n",
        "epochsToDouble = 0\n",
        "progressive = 0\n",
        "epochsToSave = 0\n",
        "cosineAnnealing = 0\n",
        "cosineRestartEpochs = 0\n",
        "\n",
        "varDict = {\n",
        "    \"startEpoch\":startEpoch,\n",
        "    \"useWandB\":useWandB,\n",
        "    \"batchSize\":batchSize,\n",
        "    \"learnRate\":learnRate,\n",
        "    \"epochs\":epochs,\n",
        "    \"startDim\":startDim,\n",
        "    \"epochsToDouble\":epochsToDouble,\n",
        "    \"progressive\":progressive,\n",
        "    \"epochsToSave\":epochsToSave,\n",
        "    \"cosineAnnealing\":cosineAnnealing,\n",
        "    \"cosineRestartEpochs\":cosineRestartEpochs,\n",
        "}\n",
        "\n",
        "TrainingEval.ParseConfig(configFile, varDict)\n",
        "\n",
        "for key in varDict:\n",
        "    if varDict[key].is_integer():\n",
        "        locals()[key] = int(varDict[key])\n",
        "    else:\n",
        "        locals()[key] = varDict[key]"
      ]
    },
    {
      "cell_type": "code",
      "execution_count": null,
      "metadata": {
        "colab": {
          "base_uri": "https://localhost:8080/"
        },
        "id": "o0JenAeF1rFu",
        "outputId": "cfa27150-7236-40f2-ac04-f7babcee52a2"
      },
      "outputs": [],
      "source": [
        "#Load Datasets\n",
        "#trainDataset = LITSBinaryDataset(\"Datasets/StandardDatasets/FullTrainDataset.hdf5\")\n",
        "trainDataset = LITSBinaryDataset(\"Datasets/StandardDatasets/FullTrainDataset.hdf5\")\n",
        "validationDataset = LITSBinaryDataset(\"Datasets/StandardDatasets/ValidationDataset.hdf5\")\n",
        "testDataset = LITSBinaryDataset(\"Datasets/StandardDatasets/TestDataset.hdf5\")\n",
        "\n",
        "trainIter = DataLoader(trainDataset, batch_size=batchSize, shuffle=True)\n",
        "validationIter = DataLoader(validationDataset, batch_size=batchSize)\n",
        "testIter = DataLoader(testDataset, batch_size=batchSize)\n",
        "\n",
        "print(\"Datasets loaded\")"
      ]
    },
    {
      "cell_type": "code",
      "execution_count": null,
      "metadata": {},
      "outputs": [],
      "source": [
        "trainDataset = LITSMultiClassDataset(\"Datasets/MultiClass/MultiClassTrainingDataset.hdf5\")\n",
        "validationDataset = LITSMultiClassDataset(\"Datasets/MultiClass/MultiClassValidationDataset.hdf5\")\n",
        "testDataset = LITSMultiClassDataset(\"Datasets/MultiClass/MultiClassTestingDataset.hdf5\")\n",
        "\n",
        "trainIter = DataLoader(trainDataset, batch_size=batchSize, shuffle=True)\n",
        "validationIter = DataLoader(validationDataset, batch_size=batchSize)\n",
        "testIter = DataLoader(testDataset, batch_size=batchSize)"
      ]
    },
    {
      "cell_type": "code",
      "execution_count": null,
      "metadata": {},
      "outputs": [],
      "source": [
        "trainDataset = LITSBinaryDataset(\"Datasets/TotalSegmentator/TotalSegmentatorTrainingDataset.hdf5\")\n",
        "validationDataset = LITSBinaryDataset(\"Datasets/TotalSegmentator/TotalSegmentatorValidationDataset.hdf5\")\n",
        "testDataset = LITSBinaryDataset(\"Datasets/TotalSegmentator/TotalSegmentatorTrainingDataset.hdf5\")\n",
        "\n",
        "trainIter = DataLoader(trainDataset, batch_size=batchSize, shuffle=True)\n",
        "validationIter = DataLoader(validationDataset, batch_size=batchSize)\n",
        "testIter = DataLoader(testDataset, batch_size=1)"
      ]
    },
    {
      "attachments": {},
      "cell_type": "markdown",
      "metadata": {
        "id": "blz2NJ-mo_vJ"
      },
      "source": [
        "# **Standard Training**"
      ]
    },
    {
      "cell_type": "code",
      "execution_count": null,
      "metadata": {
        "colab": {
          "base_uri": "https://localhost:8080/"
        },
        "id": "qvELD2iw1fgj",
        "outputId": "f177e2e7-9382-4335-f9b2-247aed63209b"
      },
      "outputs": [],
      "source": [
        "#Load model\n",
        "initModel = \"\"\n",
        "\n",
        "lossFuncs = [[LossFunctions.dice_loss, LossFunctions.dice_score], []]\n",
        "weights = [[1, 0], []]\n",
        "\n",
        "segmenter = UNet(device=device, n_class=1)\n",
        "#print(summary(net, (1, 256, 256)))\n",
        "\n",
        "#Loads model from file if using a pretrained version\n",
        "if initModel != \"\":\n",
        "    segmenter.load_state_dict(torch.load(initModel))\n",
        "\n",
        "segmenter = segmenter.to(device)\n",
        "\n",
        "print(\"Intialized standard UNet model\")"
      ]
    },
    {
      "cell_type": "code",
      "execution_count": null,
      "metadata": {
        "id": "8YVz5cMohycW"
      },
      "outputs": [],
      "source": [
        "#Train Model\n",
        "\n",
        "learnRate = 0.5\n",
        "\n",
        "if useWandB:\n",
        "    wandb.init(project=\"LiverSegmentation\",\n",
        "            name=modelName,\n",
        "            config={\n",
        "                \"BatchSize\":batchSize,\n",
        "                \"LearnRate\":learnRate,\n",
        "                \"Epochs\":epochs,\n",
        "                \"StartDimension\":startDim,\n",
        "                \"EpochsToDouble\":epochsToDouble\n",
        "            })\n",
        "\n",
        "TrainingEval.train(segmenter, lossFuncs, weights, trainIter, validationIter, epochs, startEpoch, learnRate, device, startDim, epochsToDouble, modelFile, epochsToSave, useWandB=useWandB, \n",
        "      cosineAnnealing=cosineAnnealing, restartEpochs=cosineRestartEpochs, progressive=progressive)\n",
        "\n",
        "if useWandB:\n",
        "    wandb.finish()"
      ]
    },
    {
      "cell_type": "code",
      "execution_count": null,
      "metadata": {},
      "outputs": [],
      "source": [
        "for modelNum in range(10):\n",
        "    modelName = \"MultiClassBasline\" + str(modelNum)\n",
        "    modelFile = \"UsedModels/MultiClassBasline\" + str(modelNum)\n",
        "\n",
        "    #Load model\n",
        "    initModel = \"\"\n",
        "\n",
        "    lossFuncs = [[LossFunctions.weighted_dice_loss, LossFunctions.dice_score], []]\n",
        "    weights = [[1, 0], []]\n",
        "\n",
        "    segmenter = UNet(device=device, n_class=2)\n",
        "    #print(summary(net, (1, 256, 256)))\n",
        "\n",
        "    #Loads model from file if using a pretrained version\n",
        "    if initModel != \"\":\n",
        "        segmenter.load_state_dict(torch.load(initModel))\n",
        "\n",
        "    segmenter = segmenter.to(device)\n",
        "\n",
        "    print(\"Intialized standard UNet model\")\n",
        "\n",
        "    #Train Model\n",
        "\n",
        "    if useWandB:\n",
        "        wandb.init(project=\"MultiClassLiTS\",\n",
        "                name=modelName,\n",
        "                config={\n",
        "                    \"BatchSize\":batchSize,\n",
        "                    \"LearnRate\":learnRate,\n",
        "                    \"Epochs\":epochs,\n",
        "                    \"StartDimension\":startDim,\n",
        "                    \"EpochsToDouble\":epochsToDouble\n",
        "                })\n",
        "\n",
        "    TrainingEval.train(segmenter, lossFuncs, weights, trainIter, validationIter, epochs, startEpoch, learnRate, device, startDim, epochsToDouble, modelFile, epochsToSave, useWandB=useWandB, \n",
        "        cosineAnnealing=cosineAnnealing, restartEpochs=cosineRestartEpochs, progressive=progressive)\n",
        "\n",
        "    if useWandB:\n",
        "        wandb.finish()"
      ]
    },
    {
      "cell_type": "code",
      "execution_count": null,
      "metadata": {},
      "outputs": [],
      "source": [
        "lossFuncs = [[LossFunctions.dice_loss, LossFunctions.dice_score], []]\n",
        "weights = [[1, 0], []]\n",
        "\n",
        "initModel = \"\"\n",
        "\n",
        "for modelNum in range(10):\n",
        "    modelFile = \"UsedModels/BaselineTotalSeg\" + str(modelNum)\n",
        "    segmenter = UNet(device=device, n_class=1)\n",
        "    #print(summary(net, (1, 256, 256)))\n",
        "\n",
        "    #Loads model from file if using a pretrained version\n",
        "    if initModel != \"\":\n",
        "        segmenter.load_state_dict(torch.load(initModel))\n",
        "\n",
        "    segmenter = segmenter.to(device)\n",
        "\n",
        "    print(\"Intialized standard UNet model\")\n",
        "\n",
        "    #Train Model\n",
        "\n",
        "    if useWandB:\n",
        "        wandb.init(project=\"LiverSegmentation\",\n",
        "                name=modelName,\n",
        "                config={\n",
        "                    \"BatchSize\":batchSize,\n",
        "                    \"LearnRate\":learnRate,\n",
        "                    \"Epochs\":epochs,\n",
        "                    \"StartDimension\":startDim,\n",
        "                    \"EpochsToDouble\":epochsToDouble\n",
        "                })\n",
        "\n",
        "    TrainingEval.train(segmenter, lossFuncs, weights, trainIter, validationIter, epochs, startEpoch, learnRate, device, startDim, epochsToDouble, modelFile, epochsToSave, useWandB=useWandB, \n",
        "        cosineAnnealing=cosineAnnealing, restartEpochs=cosineRestartEpochs, progressive=progressive)\n",
        "\n",
        "    if useWandB:\n",
        "        wandb.finish()"
      ]
    },
    {
      "attachments": {},
      "cell_type": "markdown",
      "metadata": {
        "id": "UMT_AzWypZdL"
      },
      "source": [
        "# **Pre-Training**"
      ]
    },
    {
      "cell_type": "code",
      "execution_count": null,
      "metadata": {
        "id": "JsMuX0NYpYxZ"
      },
      "outputs": [],
      "source": [
        "focal = LossFunctions.FocalLoss(weight0=0.1, weight1=0.9, gamma=2)\n",
        "\n",
        "lossFuncs = [[], [focal, LossFunctions.accuracy, LossFunctions.f1]]\n",
        "weights = [[], [1, 0, 0]]\n",
        "\n",
        "initEncoder = \"Run 2/Progressive Encoders/ProgEncoder10\"\n",
        "encoderFile = \"UsedModels/Encoder1\"\n",
        "\n",
        "encoder = Encoder(1)\n",
        "\n",
        "if initEncoder != \"\":\n",
        "    encoder.load_state_dict(torch.load(initEncoder))\n",
        "\n",
        "encoder = encoder.to(device)"
      ]
    },
    {
      "cell_type": "code",
      "execution_count": null,
      "metadata": {
        "id": "NR1JX1AeqQAO"
      },
      "outputs": [],
      "source": [
        "#Train Model\n",
        "gc.collect()\n",
        "\n",
        "if useWandB:\n",
        "    wandb.init(project=\"PreTrainedEncoder\",\n",
        "            name=\"UNetEncoder\",\n",
        "            config={\n",
        "                \"BatchSize\":batchSize,\n",
        "                \"LearnRate\":learnRate,\n",
        "                \"Epochs\":epochs,\n",
        "                \"StartDimension\":startDim,\n",
        "                \"EpochsToDouble\":epochsToDouble,\n",
        "            })\n",
        "\n",
        "print(TrainingEval.train(encoder, lossFuncs, weights, trainIter, validationIter, epochs, startEpoch, learnRate, device, startDim, epochsToDouble, encoderFile, epochsToSave, useWandB=useWandB, \n",
        "      cosineAnnealing=cosineAnnealing, restartEpochs=cosineRestartEpochs, progressive=progressive, encoder=True))\n",
        "\n",
        "if useWandB:\n",
        "    wandb.finish()"
      ]
    },
    {
      "cell_type": "code",
      "execution_count": null,
      "metadata": {
        "id": "PLEB6MZfqk4d"
      },
      "outputs": [],
      "source": [
        "segmenter = UNet(encoder=encoder)\n",
        "\n",
        "lossFuncs = [[LossFunctions.dice_loss, LossFunctions.dice_score], []]\n",
        "weights = [[1, 0], []]"
      ]
    },
    {
      "cell_type": "code",
      "execution_count": null,
      "metadata": {
        "id": "ti-Rck8Xq3sj"
      },
      "outputs": [],
      "source": [
        "#Train Model\n",
        "gc.collect()\n",
        "\n",
        "if useWandB:\n",
        "    wandb.init(project=\"LiverSegmentationPreTraining\",\n",
        "            name=\"NoWeights\",\n",
        "            config={\n",
        "                \"BatchSize\":batchSize,\n",
        "                \"LearnRate\":learnRate,\n",
        "                \"Epochs\":epochs,\n",
        "                \"StartDimension\":startDim,\n",
        "                \"EpochsToDouble\":epochsToDouble\n",
        "            })\n",
        "\n",
        "TrainingEval.train(segmenter, lossFuncs, weights, trainIter, validationIter, epochs, startEpoch, learnRate, device, startDim, epochsToDouble, modelFile, epochsToSave, useWandB=useWandB, \n",
        "      cosineAnnealing=cosineAnnealing, restartEpochs=cosineRestartEpochs, progressive=0)\n",
        "\n",
        "if useWandB:\n",
        "    wandb.finish()"
      ]
    },
    {
      "attachments": {},
      "cell_type": "markdown",
      "metadata": {
        "id": "JH2TvySW9ux8"
      },
      "source": [
        "# **Joint Training**"
      ]
    },
    {
      "cell_type": "code",
      "execution_count": null,
      "metadata": {
        "colab": {
          "base_uri": "https://localhost:8080/",
          "height": 814
        },
        "id": "st2leTac4VsP",
        "outputId": "0ee0bbc1-6d44-4e32-8cfa-d737f988c191"
      },
      "outputs": [],
      "source": [
        "for i in tqdm(range(10)):\n",
        "    modelFile = \"ContJoint\" + str(i)\n",
        "    initEncoder = \"ContrastiveModels/Encoders/ContrastiveEncoder\" + str(i)\n",
        "\n",
        "    encoder = Encoder()\n",
        "    encoder.load_state_dict(torch.load(initEncoder), strict=False)\n",
        "\n",
        "    segmenter = UNet(device, encoder=encoder)\n",
        "\n",
        "    if useWandB:\n",
        "        wandb.init(project=\"LiverSegmentationJointTraining\",\n",
        "                name=\"Weights:\",\n",
        "                config={\n",
        "                    \"BatchSize\":batchSize,\n",
        "                    \"LearnRate\":learnRate,\n",
        "                    \"Epochs\":epochs,\n",
        "                    \"StartDimension\":startDim,\n",
        "                    \"EpochsToDouble\":epochsToDouble\n",
        "                })\n",
        "\n",
        "    classLossFunc = LossFunctions.FocalLoss(weight0=0.2, weight1=0.8, gamma=2)\n",
        "\n",
        "    lossFuncs = [[LossFunctions.dice_score, LossFunctions.dice_loss], [LossFunctions.accuracy, classLossFunc]]\n",
        "    weights = [[0, 0.6], [0, 0.4]]\n",
        "\n",
        "    TrainingEval.train(segmenter, lossFuncs, weights, trainIter, validationIter, epochs, startEpoch, learnRate, device, startDim, epochsToDouble, modelFile, epochsToSave, useWandB=useWandB, \n",
        "        cosineAnnealing=cosineAnnealing, restartEpochs=cosineRestartEpochs, progressive=progressive)\n",
        "\n",
        "    if useWandB:\n",
        "        wandb.finish()"
      ]
    },
    {
      "cell_type": "markdown",
      "metadata": {},
      "source": [
        "# **Contrastive Pre-Training**"
      ]
    },
    {
      "cell_type": "code",
      "execution_count": null,
      "metadata": {},
      "outputs": [],
      "source": [
        "#contTrainDataset = LITSContDataset(\"Datasets/ContrastiveDatasets/ScanBased/RandContrastiveTrainDataset.hdf5\")\n",
        "contTrainDataset = LITSContDataset(\"Datasets/ContrastiveDatasets/SimCLRTrainingDataset.hdf5\")\n",
        "#contValDataset = LITSContDataset(\"Datasets/ContrastiveDatasets/ScanBased/RandContrastiveValidationDataset.hdf5\")\n",
        "#contTestDataset = LITSContDataset(\"Datasets/ContrastiveDatasets/ScanBased/RandContrastiveTestDataset.hdf5\")\n",
        "\n",
        "contTrainIter = DataLoader(contTrainDataset, batch_size=batchSize, shuffle=True)\n",
        "#contValidationIter = DataLoader(contValDataset, batch_size=batchSize)\n",
        "#contTestIter = DataLoader(contTestDataset, batch_size=batchSize)"
      ]
    },
    {
      "cell_type": "code",
      "execution_count": null,
      "metadata": {},
      "outputs": [],
      "source": [
        "for i in tqdm(range(10)):\n",
        "    modelName = \"SimCLREncoder\" + str(i)\n",
        "    modelFile = \"UsedModels/\" + modelName\n",
        "    encoder = ContrastiveEncoder(block=ResidualBlock)\n",
        "\n",
        "    if useWandB:\n",
        "        wandb.init(project=\"LITSEncoderContrastive\",\n",
        "                name=\"Weights:\",\n",
        "                config={\n",
        "                    \"BatchSize\":batchSize,\n",
        "                    \"LearnRate\":learnRate,\n",
        "                    \"Epochs\":epochs,\n",
        "                    \"StartDimension\":startDim,\n",
        "                    \"EpochsToDouble\":epochsToDouble\n",
        "                })\n",
        "        \n",
        "    #lossFunc = LossFunctions.ContrastiveLossEuclidean\n",
        "    #lossFunc = LossFunctions.ContrastiveLossCosine(temp=(1 / batchSize))\n",
        "    lossFunc = LossFunctions.ContrastiveLossSimCLR(temp=(1 / batchSize), device=device)\n",
        "\n",
        "    #TrainingEval.contrastiveTrain(encoder, lossFunc, contTrainIter, contValidationIter, epochs, startEpoch, learnRate, device, modelFile, epochsToSave, useWandB=useWandB, \n",
        "    #    cosineAnnealing=cosineAnnealing, restartEpochs=cosineRestartEpochs, isDist=False)\n",
        "\n",
        "    TrainingEval.simCLRTrain(encoder, lossFunc, contTrainIter, epochs, startEpoch, learnRate, device, modelFile, epochsToSave, useWandB=useWandB, cosineAnnealing=cosineAnnealing, restartEpochs=cosineRestartEpochs)\n",
        "\n",
        "    if useWandB:\n",
        "        wandb.finish()\n",
        "\n",
        "    print(\"Model: \" + str(i) + \" finished\")"
      ]
    },
    {
      "cell_type": "code",
      "execution_count": null,
      "metadata": {},
      "outputs": [],
      "source": [
        "initEncoder = \"ContrastiveTest/ContrastiveTest1Encoder\"\n",
        "\n",
        "encoder = ContrastiveEncoder()\n",
        "encoder.load_state_dict(torch.load(initEncoder), strict=False)\n",
        "\n",
        "segmenter = UNet(device, encoder=encoder)\n",
        "#segmenter.freezeEncoder()\n",
        "\n",
        "lossFuncs = [[LossFunctions.dice_loss, LossFunctions.dice_score], []]\n",
        "weights = [[1, 0], []]"
      ]
    },
    {
      "cell_type": "code",
      "execution_count": null,
      "metadata": {},
      "outputs": [],
      "source": [
        "for i in tqdm(range(10)):\n",
        "    initEncoder = \"SimCLR/Encoders/SimCLREncoder\" + str(i)\n",
        "    modelFile = \"UsedModels/SimCLRFineTune\" + str(i)\n",
        "\n",
        "    print(modelFile)\n",
        "\n",
        "    encoder = ContrastiveEncoder(block=ResidualBlock)\n",
        "    encoder.load_state_dict(torch.load(initEncoder), strict=False)\n",
        "\n",
        "    segmenter = UNet(device, n_class=1 , encoder=encoder, block=ResidualBlock)\n",
        "    segmenter.freezeEncoder()\n",
        "\n",
        "    lossFuncs = [[LossFunctions.dice_loss, LossFunctions.dice_score], []]\n",
        "    weights = [[1, 0], []]\n",
        "\n",
        "    #Train Model\n",
        "    gc.collect()\n",
        "\n",
        "    if useWandB:\n",
        "        wandb.init(project=\"LiverSegmentationPreTraining\",\n",
        "                name=\"NoWeights\",\n",
        "                config={\n",
        "                    \"BatchSize\":batchSize,\n",
        "                    \"LearnRate\":learnRate,\n",
        "                    \"Epochs\":epochs,\n",
        "                    \"StartDimension\":startDim,\n",
        "                    \"EpochsToDouble\":epochsToDouble\n",
        "                })\n",
        "\n",
        "    TrainingEval.train(segmenter, lossFuncs, weights, trainIter, validationIter, epochs, startEpoch, learnRate, device, startDim, epochsToDouble, modelFile, epochsToSave, useWandB=useWandB, \n",
        "        cosineAnnealing=cosineAnnealing, restartEpochs=cosineRestartEpochs, progressive=0)\n",
        "\n",
        "    if useWandB:\n",
        "        wandb.finish()"
      ]
    },
    {
      "cell_type": "code",
      "execution_count": null,
      "metadata": {},
      "outputs": [],
      "source": [
        "modelNames = [\"SimCLRMulticlass\"]\n",
        "initLocs = [\"SimCLR/Encoders/SimCLREncoder\"]\n",
        "\n",
        "for j, modelName in enumerate(modelNames):\n",
        "    for i in tqdm(range(10)):\n",
        "        initEncoder = initLocs[j] + str(i)\n",
        "        modelFile = \"UsedModels/\" + modelName + str(i)\n",
        "\n",
        "        print(modelFile)\n",
        "\n",
        "        block = ResidualBlock\n",
        "\n",
        "        encoder = ContrastiveEncoder(block=block)\n",
        "\n",
        "        encoder.load_state_dict(torch.load(initEncoder), strict=False)\n",
        "\n",
        "        segmenter = UNet(device, n_class=2, encoder=encoder, block=block)\n",
        "        segmenter.freezeEncoder()\n",
        "\n",
        "        lossFuncs = [[LossFunctions.weighted_dice_loss, LossFunctions.dice_score], []]\n",
        "        weights = [[1, 0], []]\n",
        "\n",
        "        #Train Model\n",
        "        gc.collect()\n",
        "\n",
        "        if useWandB:\n",
        "            wandb.init(project=modelName,\n",
        "                    name=modelName + str(i),\n",
        "                    config={\n",
        "                        \"BatchSize\":batchSize,\n",
        "                        \"LearnRate\":learnRate,\n",
        "                        \"Epochs\":epochs,\n",
        "                        \"StartDimension\":startDim,\n",
        "                        \"EpochsToDouble\":epochsToDouble\n",
        "                    })\n",
        "\n",
        "        TrainingEval.train(segmenter, lossFuncs, weights, trainIter, validationIter, epochs, startEpoch, learnRate, device, startDim, epochsToDouble, modelFile, epochsToSave, useWandB=useWandB, \n",
        "            cosineAnnealing=cosineAnnealing, restartEpochs=cosineRestartEpochs, progressive=0)\n",
        "\n",
        "        if useWandB:\n",
        "            wandb.finish()"
      ]
    },
    {
      "cell_type": "code",
      "execution_count": null,
      "metadata": {},
      "outputs": [],
      "source": [
        "for numScans in range(10):\n",
        "    for i in tqdm(range(10)):\n",
        "            trainDataset = LITSBinaryDataset(\"Datasets/ReducedData/ReducedDataFineTuneDataset\" + str(numScans + 1) + \"Scans.hdf5\")\n",
        "            trainIter = DataLoader(trainDataset, batch_size=batchSize, shuffle=True)\n",
        "            \n",
        "            modelName = \"SimCLRReducedFineTune\" + str(numScans + 1) + \"Scans\" + str(i)\n",
        "            initEncoder = \"SimCLR/Encoders/SimCLREncoder\" + str(i)\n",
        "            modelFile = \"UsedModels/\" + modelName\n",
        "\n",
        "            print(modelFile)\n",
        "\n",
        "            block = ResidualBlock\n",
        "            encoder = ContrastiveEncoder(block=block)\n",
        "\n",
        "            encoder.load_state_dict(torch.load(initEncoder), strict=False)\n",
        "\n",
        "            segmenter = UNet(device, n_class=1, encoder=encoder, block=block)\n",
        "\n",
        "            segmenter.freezeEncoder()\n",
        "\n",
        "            lossFuncs = [[LossFunctions.dice_loss, LossFunctions.dice_score], []]\n",
        "            weights = [[1, 0], []]\n",
        "\n",
        "            #Train Model\n",
        "            gc.collect()\n",
        "\n",
        "            if useWandB:\n",
        "                wandb.init(project=\"LiverSegmentationPreTraining\",\n",
        "                        name=\"NoWeights\",\n",
        "                        config={\n",
        "                            \"BatchSize\":batchSize,\n",
        "                            \"LearnRate\":learnRate,\n",
        "                            \"Epochs\":epochs,\n",
        "                            \"StartDimension\":startDim,\n",
        "                            \"EpochsToDouble\":epochsToDouble\n",
        "                        })\n",
        "\n",
        "            TrainingEval.train(segmenter, lossFuncs, weights, trainIter, validationIter, epochs, startEpoch, learnRate, device, startDim, epochsToDouble, modelFile, epochsToSave, useWandB=useWandB, \n",
        "                cosineAnnealing=cosineAnnealing, restartEpochs=cosineRestartEpochs, progressive=0)\n",
        "\n",
        "            if useWandB:\n",
        "                wandb.finish()"
      ]
    },
    {
      "attachments": {},
      "cell_type": "markdown",
      "metadata": {
        "id": "iipij4bjp9hs"
      },
      "source": [
        "# **Evaluation/Ending**"
      ]
    },
    {
      "cell_type": "code",
      "execution_count": null,
      "metadata": {
        "colab": {
          "base_uri": "https://localhost:8080/"
        },
        "id": "h1tLSjzH2F-Z",
        "outputId": "2f548a4b-f201-45cc-e02e-1c90911370e8"
      },
      "outputs": [],
      "source": [
        "dirs = [\"MultiClassBaselines/\"]\n",
        "\n",
        "for dir in dirs:\n",
        "    for modelName in os.listdir(dir):\n",
        "        #modelName = \"BaselineTotalSeg\" + str(q)\n",
        "        classification = False\n",
        "        modelFile = dir + modelName\n",
        "        classLossFunc = LossFunctions.FocalLoss(weight0=0.2, weight1=0.8, gamma=2)\n",
        "\n",
        "        lossFuncs = [[LossFunctions.hausdorff], []]\n",
        "        #lossFuncs = [[LossFunctions.dice_score, LossFunctions.hausdorff], [LossFunctions.accuracy, LossFunctions.f1]]\n",
        "\n",
        "        if classification:\n",
        "            net = encoder\n",
        "            net.load_state_dict(torch.load(modelFile), strict=False)\n",
        "        else:\n",
        "            net = UNet(device, n_class=2, multiTask=False).to(device)\n",
        "            net.load_state_dict(torch.load(modelFile), strict=False)\n",
        "\n",
        "        #Evaluate Model\n",
        "        print(f\"Model: {modelName}\")\n",
        "\n",
        "        losses = TrainingEval.evaluate(net, testIter, lossFuncs, device=device, encoder=classification)\n",
        "        logStr = \"\"\n",
        "        for i, arr in enumerate(losses):\n",
        "            for j, val in enumerate(arr):\n",
        "                logStr += (lossFuncs[i][j].__name__ if str(type(lossFuncs[i][j])) == \"<class 'function'>\" else type(lossFuncs[i][j]).__name__) + \": \" + str(val) + \" \"\n",
        "\n",
        "        print(logStr)"
      ]
    },
    {
      "cell_type": "code",
      "execution_count": null,
      "metadata": {},
      "outputs": [],
      "source": [
        "#modelName = \"BaselineTotalSeg\" + str(q)\n",
        "classification = False\n",
        "modelFile = \"UsedModels/TotalSegmentatorTest3BestLoss\"\n",
        "classLossFunc = LossFunctions.FocalLoss(weight0=0.2, weight1=0.8, gamma=2)\n",
        "\n",
        "lossFuncs = [[LossFunctions.dice_score, LossFunctions.hausdorff], []]\n",
        "#lossFuncs = [[LossFunctions.dice_score, LossFunctions.hausdorff], [LossFunctions.accuracy, LossFunctions.f1]]\n",
        "\n",
        "if classification:\n",
        "    net = encoder\n",
        "    net.load_state_dict(torch.load(modelFile), strict=False)\n",
        "else:\n",
        "    net = UNet(device, n_class=2, multiTask=False).to(device)\n",
        "    net.load_state_dict(torch.load(modelFile), strict=False)\n",
        "\n",
        "#Evaluate Model\n",
        "print(f\"Model: {modelName}\")\n",
        "\n",
        "losses = TrainingEval.evaluate(net, testIter, lossFuncs, device=device, encoder=classification)\n",
        "logStr = \"\"\n",
        "for i, arr in enumerate(losses):\n",
        "    for j, val in enumerate(arr):\n",
        "        logStr += (lossFuncs[i][j].__name__ if str(type(lossFuncs[i][j])) == \"<class 'function'>\" else type(lossFuncs[i][j]).__name__) + \": \" + str(val) + \" \"\n",
        "\n",
        "print(logStr)"
      ]
    },
    {
      "cell_type": "code",
      "execution_count": null,
      "metadata": {},
      "outputs": [],
      "source": [
        "modelName = \"\"\n",
        "modelFile = \"UsedModels/ContrastiveTest1BestLoss\"\n",
        "\n",
        "net = ContrastiveEncoder().to(device)\n",
        "net.load_state_dict(torch.load(modelFile), strict=False)\n",
        "\n",
        "lossFunc = LossFunctions.ContrastiveLossCosine\n",
        "\n",
        "loss = TrainingEval.contrastiveEval(net, contTestIter, lossFunc, device=device, isDist=False)\n",
        "print(str(lossFunc) + \" \" + str(loss))"
      ]
    },
    {
      "cell_type": "code",
      "execution_count": null,
      "metadata": {
        "id": "KI_1aq7_VJ01"
      },
      "outputs": [],
      "source": [
        "#modelFile = \"Run 2/Standard Pre-Training/PretrainedUNet7\"\n",
        "modelFile = \"Run 2/Standard Pre-Training/PretrainedUNet6\"\n",
        "dataset = LITSBinaryDataset(\"Datasets/Scan1Dataset.hdf5\")\n",
        "iter = DataLoader(dataset, batch_size=batchSize)\n",
        "\n",
        "net = UNet(0)\n",
        "net.load_state_dict(torch.load(modelFile), strict=False)\n",
        "\n",
        "net.to(device)\n",
        "\n",
        "segmentationMask = TrainingEval.getMasks(net, iter, device=device)\n",
        "\n",
        "masksFile = \"PretrainMasksScan1\"\n",
        "wFile = h5py.File(masksFile, \"w\")\n",
        "\n",
        "for i, slice in enumerate(segmentationMask):\n",
        "    wFile.create_dataset(\"Slice\" + str(i), data=slice)\n",
        "\n",
        "wFile.close()"
      ]
    },
    {
      "cell_type": "code",
      "execution_count": null,
      "metadata": {
        "id": "7LDAG1Pd2KXN"
      },
      "outputs": [],
      "source": [
        "#Close datasets\n",
        "trainDataset.closeFile()\n",
        "validationDataset.closeFile()\n",
        "testDataset.closeFile()"
      ]
    }
  ],
  "metadata": {
    "accelerator": "GPU",
    "colab": {
      "collapsed_sections": [
        "IGcZ_Vm5n5Yv",
        "6g1MsLCCoDhb",
        "6adquwMWoH0B",
        "D2RziTUxY8jV",
        "s4TpJ7zaoLed",
        "blz2NJ-mo_vJ",
        "UMT_AzWypZdL"
      ],
      "provenance": []
    },
    "gpuClass": "standard",
    "kernelspec": {
      "display_name": "base",
      "language": "python",
      "name": "python3"
    },
    "language_info": {
      "codemirror_mode": {
        "name": "ipython",
        "version": 3
      },
      "file_extension": ".py",
      "mimetype": "text/x-python",
      "name": "python",
      "nbconvert_exporter": "python",
      "pygments_lexer": "ipython3",
      "version": "3.9.16"
    },
    "vscode": {
      "interpreter": {
        "hash": "ea23a5d6ea5dd6b47a6bacc48f8acbc6e91dc182fa6b25270d70228f0691131c"
      }
    }
  },
  "nbformat": 4,
  "nbformat_minor": 0
}
